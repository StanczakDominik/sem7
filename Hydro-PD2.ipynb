{
 "cells": [
  {
   "cell_type": "markdown",
   "metadata": {},
   "source": [
    "# Hydrodynamika - ćwiczenia 3\n",
    "### Dominik Stańczak"
   ]
  },
  {
   "cell_type": "markdown",
   "metadata": {},
   "source": [
    "## Zadanie 1\n",
    "\n",
    "$$\\vec{u} = (kx, -ky)$$\n",
    "\n",
    "$$c(x, y, t) = \\beta x^2 y e^{-kt}$$\n",
    "\n",
    "Podążając za elementem płynu, zmiana w czasie dowolnej wielkości wyraża się przez\n",
    "\n",
    "$$\\frac{d}{dt} = \\frac{\\partial}{\\partial t} + \\vec{u}\\cdot \\nabla = \\text{(w przypadku kartezjańskim 2D)} = \\frac{\\partial}{\\partial t} + u_x \\frac{\\partial}{\\partial x} + u_y \\frac{\\partial}{\\partial y}$$"
   ]
  },
  {
   "cell_type": "markdown",
   "metadata": {},
   "source": [
    "Zatem, podstawiając:\n",
    "\n",
    "$$\\frac{d}{dt}c(x, y, t) = -k \\beta x^2 y e^{-kt} + (kx) (\\beta 2 x y e^{-kt}) + (-ky) (\\beta x^2 e^{-kt}) = \n",
    "k \\beta e^{-kt} (1 + 2 - 1) x^2 y = 2 k \\beta e^{-kt} x^2 y$$"
   ]
  },
  {
   "cell_type": "markdown",
   "metadata": {},
   "source": [
    "## Zadanie 2\n",
    "### a)\n",
    "$\\vec{u} = \\vec{u}(x, y)$, $\\vec{u} = \\nabla \\times (\\psi\\hat{z})$"
   ]
  },
  {
   "cell_type": "markdown",
   "metadata": {},
   "source": [
    "i) Warunek $\\psi = C$ implikuje, że linie prądu $\\vec{u}(x,y)$ są wszędzie ortogonalne do gradientu $\\psi$:\n",
    "\n",
    "$$\\vec{u} \\cdot \\nabla \\psi = 0$$\n",
    "\n",
    "$$\\nabla \\psi = [\\frac{\\partial \\psi}{\\partial x}, \\frac{\\partial \\psi}{\\partial y}]$$\n",
    "\n",
    "$$\\vec{u} = \\nabla \\times (\\psi \\hat{z}) = \\hat{x} \\partial_y \\psi - \\hat{y} \\partial_x \\psi = [\\frac{\\partial \\psi}{\\partial y}, -\\frac{\\partial \\psi}{\\partial x}]  $$"
   ]
  },
  {
   "cell_type": "markdown",
   "metadata": {},
   "source": [
    "$$\\vec{u} \\cdot \\nabla \\psi = \\frac{\\partial \\psi}{\\partial x} \\frac{\\partial \\psi}{\\partial y} - \\frac{\\partial \\psi}{\\partial y} \\frac{\\partial \\psi}{\\partial x} = 0$$"
   ]
  },
  {
   "cell_type": "markdown",
   "metadata": {},
   "source": [
    "ii) Szybkość przepływu to $|\\vec{u}| = \\sqrt{u_x^2 + u_y^2 }$. Jako że linie prądu są wyznaczone przez $\\psi = C$, lokalne zagęszczenie prądu można wyrazić przez $|\\nabla \\psi| = \\sqrt{(\\frac{\\partial \\psi}{\\partial x})^2 + (\\frac{\\partial \\psi}{\\partial y})^2}$.\n",
    "\n",
    "Podstawiając składowe $\\vec{u}$:\n",
    "\n",
    "$$|\\vec{u}|^2 = u_x^2 + u_y^2 = (\\frac{\\partial \\psi}{\\partial y})^2 + (-\\frac{\\partial \\psi}{\\partial x})^2 = |\\nabla \\psi|^2$$"
   ]
  },
  {
   "cell_type": "markdown",
   "metadata": {},
   "source": [
    "iii) $\\vec{\\omega} = \\nabla \\times \\vec{u}$\n",
    "\n",
    "Definiując $\\vec{A} = \\psi \\hat{z}$:\n",
    "\n",
    "$$ \\vec{\\omega} = \\nabla \\times \\nabla \\times \\vec{A} $$"
   ]
  },
  {
   "cell_type": "markdown",
   "metadata": {},
   "source": [
    "Korzystając ze znanego twierdzenia analizy wektorowej\n",
    "\n",
    "$$\\vec{\\omega} = \\nabla (\\nabla \\cdot \\vec{A}) - \\nabla^2 \\vec{A}$$"
   ]
  },
  {
   "cell_type": "markdown",
   "metadata": {},
   "source": [
    "$$\\nabla \\cdot \\vec{A} = \\frac{\\partial \\psi}{\\partial z}$$\n",
    "\n",
    "Jako że przepływ jest dwuwymiarowy, możemy założyć $\\nabla \\cdot \\vec{A} = \\frac{\\partial \\psi}{\\partial z} = 0$."
   ]
  },
  {
   "cell_type": "markdown",
   "metadata": {},
   "source": [
    "$$\\nabla^2 \\vec{A} = [\\nabla^2 A_x, \\nabla^2 A_y, \\nabla^2 A_z] = \\hat{z} \\nabla^2 \\psi = \\hat{z} (\\frac{\\partial^2 \\psi}{\\partial x^2} + \\frac{\\partial^2 \\psi}{\\partial y^2})$$\n",
    "\n",
    "Toteż:\n",
    "\n",
    "$$\\vec{\\omega} = \\hat{z} \\nabla^2 \\psi = \\nabla^2 \\vec{A} $$"
   ]
  },
  {
   "cell_type": "markdown",
   "metadata": {},
   "source": [
    "### b)\n",
    "$\\vec{u} = \\vec{u}(r, \\phi)$, $\\vec{u} = \\nabla \\times \\psi \\hat{z}$"
   ]
  },
  {
   "cell_type": "markdown",
   "metadata": {},
   "source": [
    "i) Ponownie, należy dowieść że $\\vec{u} \\cdot \\nabla \\psi = 0$\n",
    "\n",
    "$$\\nabla \\psi = [\\frac{\\partial \\psi}{\\partial r}, \\frac{1}{r} \\frac{\\partial \\psi}{\\partial \\theta}]$$\n",
    "\n",
    "$$\\vec{u} = \\nabla \\times (\\psi \\hat{z}) =  [\\frac{1}{r} \\frac{\\partial \\psi}{\\partial \\theta}, -\\frac{\\partial \\psi}{\\partial r}]  $$"
   ]
  },
  {
   "cell_type": "markdown",
   "metadata": {},
   "source": [
    "Pochodne zerują się nawzajem po skosie, więc:\n",
    "$$\\vec{u} \\cdot \\nabla \\psi = 0$$"
   ]
  },
  {
   "cell_type": "markdown",
   "metadata": {},
   "source": [
    "ii) $$|u|^2 = u_r^2 + u_\\theta^2 = (\\frac{1}{r} \\frac{\\partial \\psi}{\\partial \\theta})^2 +(-\\frac{\\partial \\psi}{\\partial r})^2$$\n",
    "\n",
    "$$|\\nabla \\psi|^2 = (\\frac{\\partial \\psi}{\\partial r})^2 + (\\frac{1}{r} \\frac{\\partial \\psi}{\\partial \\theta})^2$$\n",
    "\n",
    "$$|\\nabla \\psi|^2 = |u|^2$$"
   ]
  },
  {
   "cell_type": "markdown",
   "metadata": {},
   "source": [
    "iii) Podobnie jak wcześniej, $$\\omega = \\nabla \\times \\nabla \\times \\vec{A} = \\nabla (\\nabla \\cdot \\vec{A}) - \\nabla^2 \\vec{A} $$\n",
    "\n",
    "$$\\nabla \\cdot \\vec{A} =  \\frac{\\partial \\psi}{\\partial z} = 0$$\n",
    "\n",
    "$$-\\nabla^2 \\vec{A} = -\\nabla^2 \\psi \\hat{z}$$"
   ]
  },
  {
   "cell_type": "markdown",
   "metadata": {},
   "source": [
    "### c)\n",
    "$\\vec{u} = \\vec{u}(r, z)$, $\\vec{u} = \\nabla \\times \\frac{\\psi}{r}\\hat{\\theta}$\n",
    "\n",
    "i) Ponownie, należy dowieść że $\\vec{u} \\cdot \\nabla \\psi = 0$\n",
    "\n",
    "$$\\nabla \\psi = [\\frac{\\partial \\psi}{\\partial r}, \\frac{1}{r} \\frac{\\partial \\psi}{\\partial \\theta}, \\frac{\\partial\\psi}{\\partial z}]$$\n",
    "\n",
    "$$\\vec{u} = \\nabla \\times \\frac{\\psi}{r}\\hat{\\theta} = \\frac{\\partial \\psi}{\\partial r} \\hat{z} - \\frac{\\partial \\psi}{\\partial z} \\hat{r} = [-\\frac{\\partial \\psi}{\\partial z}, 0, \\frac{\\partial \\psi}{\\partial r}]$$\n",
    "\n",
    "Możnaby teraz wykonać iloczyn skalarny tych dwóch wielkości, z którego łatwo widać, iż $\\vec{u} \\cdot \\nabla \\psi = 0$ sprowadza się tu do $\\frac{1}{r} \\frac{\\partial \\psi}{\\partial \\theta} * 0 = 0$. Jako że przepływ jest osiowosymetryczny można jednak przyjąć $\\partial_\\theta = 0$, co sprowadza gradient do\n",
    "\n",
    "$$\\nabla \\psi = [\\frac{\\partial \\psi}{\\partial r}, 0, \\frac{\\partial\\psi}{\\partial z}]$$\n",
    "\n",
    "Co jeszcze bardziej upraszcza wyliczenie iloczynu skalarnego.\n",
    "\n",
    "ii) $$|u|^2 = \\frac{(\\frac{\\partial \\psi}{\\partial z})^2 + (\\frac{\\partial \\psi}{\\partial r})^2}{r^2}$$\n",
    "\n",
    "Kwadrat modułu gradientu obliczam zakładając, że $\\partial_\\theta = 0$:\n",
    "\n",
    "$$|\\nabla \\phi|^2 = (\\frac{\\partial \\psi}{\\partial r})^2 + (\\frac{\\partial \\psi}{\\partial z})^2$$\n",
    "\n",
    "Mamy więc\n",
    "\n",
    "$$|u|^2 = \\frac{|\\nabla \\phi|^2}{r^2}$$\n",
    "\n",
    "Reguła z przypadków a i b zdaje się więc działać, przy czym nie ma bezpośredniej liniowej proporcjonalności między zagęszczeniem linii prądu a prędkością przepływu - jest jedynie zależna od odległości od środka układu."
   ]
  },
  {
   "cell_type": "markdown",
   "metadata": {},
   "source": [
    "iii) Po żmudnych rachunkach i przy założeniu, że $\\partial_\\theta = 0$, otrzymujemy\n",
    "\n",
    "$$\\vec{\\omega} = \\nabla \\times \\nabla \\times \\vec{A} = [0, -\\frac{1}{r} (\\frac{\\partial^2 \\psi}{\\partial r^2} + \\frac{\\partial^2 \\psi}{\\partial r^2}), 0] = - \\nabla^2 \\psi \\hat{\\theta}$$"
   ]
  },
  {
   "cell_type": "markdown",
   "metadata": {},
   "source": [
    "### d)\n",
    "$$\\vec{u} = \\vec{u}(r, \\theta) = \\nabla \\times \\frac{\\psi}{r \\sin{\\theta}} \\hat{\\theta}$$\n",
    "\n",
    "Ponownie, zakładam że tym razem $\\partial_\\phi = 0$."
   ]
  },
  {
   "cell_type": "markdown",
   "metadata": {},
   "source": [
    "i) $$\\nabla \\psi = [\\frac{\\partial \\psi}{\\partial r}, \\frac{1}{r} \\frac{\\partial \\psi}{\\partial \\theta}, 0]$$\n",
    "\n",
    "$$ \\vec{u} = \\frac{1}{r^2 \\sin{\\theta}} [\\frac{\\partial \\psi}{\\partial \\theta}, -r\\frac{\\partial \\psi}{\\partial r}, 0] = [\\frac{1}{r^2 \\sin{\\theta}} \\frac{\\partial \\psi}{\\partial \\theta}, -\\frac{1}{r \\sin{\\theta}}\\frac{\\partial \\psi}{\\partial r}, 0]$$\n",
    "\n",
    "Skąd już na pierwszy rzut oka widać, że składowe $\\hat{r}, \\hat{\\theta}$ zerują się na przemian."
   ]
  },
  {
   "cell_type": "markdown",
   "metadata": {},
   "source": [
    "ii) \n",
    "\n",
    "$$|\\nabla \\psi|^2 = (\\frac{\\partial \\psi}{\\partial r})^2 + \\frac{1}{r^2} (\\frac{\\partial \\psi}{\\partial \\theta})^2$$\n",
    "\n",
    "$$|u|^2 = \\frac{1}{r^4 \\sin^2{\\theta}} ((\\frac{\\partial \\psi}{\\partial \\theta})^2 + r^2 (\\frac{\\partial \\psi}{\\partial r})^2)$$\n",
    "\n",
    "Mamy więc"
   ]
  },
  {
   "cell_type": "markdown",
   "metadata": {},
   "source": [
    "$$|u^2| = \\frac{|\\nabla \\psi|^2}{r^2 \\sin^2\\theta}$$\n",
    "\n",
    "Więc podobnie jak wcześniej, nie ma prostej liniowej zależności, ale jest zależna od położenia."
   ]
  },
  {
   "cell_type": "markdown",
   "metadata": {},
   "source": [
    "iii) Niestety skapitulowałem. Jedyna składowa wektora wirowości jest w kierunku $\\hat{\\phi}$ i wynosi:"
   ]
  },
  {
   "cell_type": "code",
   "execution_count": 7,
   "metadata": {
    "collapsed": false
   },
   "outputs": [
    {
     "data": {
      "image/png": "[encoded data removed]",
      "text/latex": [
       "$$\\frac{1}{r} \\left(- \\frac{\\frac{\\partial^{2}}{\\partial r^{2}}  \\psi{\\left (r,\\theta \\right )}}{r \\sin{\\left (\\theta \\right )}} + \\frac{\\frac{\\partial}{\\partial r} \\psi{\\left (r,\\theta \\right )}}{r^{2} \\sin{\\left (\\theta \\right )}} - \\frac{\\frac{\\partial^{2}}{\\partial \\theta^{2}}  \\psi{\\left (r,\\theta \\right )}}{r^{2} \\sin{\\left (\\theta \\right )}} + \\frac{\\cos{\\left (\\theta \\right )} \\frac{\\partial}{\\partial \\theta} \\psi{\\left (r,\\theta \\right )}}{r^{2} \\sin^{2}{\\left (\\theta \\right )}}\\right)$$"
      ],
      "text/plain": [
       "    2                            2                              \n",
       "   ∂                            ∂                               \n",
       "  ───(ψ(r, θ))   ∂             ───(ψ(r, θ))          ∂          \n",
       "    2            ──(ψ(r, θ))     2            cos(θ)⋅──(ψ(r, θ))\n",
       "  ∂r             ∂r            ∂θ                    ∂θ         \n",
       "- ──────────── + ─────────── - ──────────── + ──────────────────\n",
       "    r⋅sin(θ)       2             2                 2    2       \n",
       "                  r ⋅sin(θ)     r ⋅sin(θ)         r ⋅sin (θ)    \n",
       "────────────────────────────────────────────────────────────────\n",
       "                               r                                "
      ]
     },
     "execution_count": 7,
     "metadata": {},
     "output_type": "execute_result"
    }
   ],
   "source": [
    "from sympy import *\n",
    "init_printing()\n",
    "r, theta = symbols('r theta')\n",
    "psi = Function('psi')(r, theta)\n",
    "phi_component = 1/r * ((-psi.diff(r)/(r*sin(theta))).diff(r) - (psi.diff(theta)/(r*r*sin(theta))).diff(theta))\n",
    "phi_component.doit()"
   ]
  },
  {
   "cell_type": "markdown",
   "metadata": {},
   "source": [
    "Niestety nie widzę prostego związku między tą wielkością a funkcją prądu, ale podejrzewam że można ją wyrazić przez laplasjan funkcji prądu."
   ]
  }
 ],
 "metadata": {
  "anaconda-cloud": {},
  "kernelspec": {
   "display_name": "Python [conda root]",
   "language": "python",
   "name": "conda-root-py"
  },
  "language_info": {
   "codemirror_mode": {
    "name": "ipython",
    "version": 3
   },
   "file_extension": ".py",
   "mimetype": "text/x-python",
   "name": "python",
   "nbconvert_exporter": "python",
   "pygments_lexer": "ipython3",
   "version": "3.5.2"
  }
 },
 "nbformat": 4,
 "nbformat_minor": 1
}
