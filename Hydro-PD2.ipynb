{
 "cells": [
  {
   "cell_type": "markdown",
   "metadata": {},
   "source": [
    "# Hydrodynamika - ćwiczenia 3\n",
    "### Dominik Stańczak"
   ]
  },
  {
   "cell_type": "markdown",
   "metadata": {},
   "source": [
    "## Zadanie 1\n",
    "\n",
    "$$\\vec{u} = (kx, -ky)$$\n",
    "\n",
    "$$c(x, y, t) = \\beta x^2 y e^{-kt}$$\n",
    "\n",
    "Podążając za elementem płynu, zmiana w czasie dowolnej wielkości wyraża się przez\n",
    "\n",
    "$$\\frac{d}{dt} = \\frac{\\partial}{\\partial t} + \\vec{u}\\cdot \\nabla = \\text{(w przypadku kartezjańskim 2D)} = \\frac{\\partial}{\\partial t} + u_x \\frac{\\partial}{\\partial x} + u_y \\frac{\\partial}{\\partial y}$$"
   ]
  },
  {
   "cell_type": "markdown",
   "metadata": {},
   "source": [
    "Zatem, podstawiając:\n",
    "\n",
    "$$\\frac{d}{dt}c(x, y, t) = -k \\beta x^2 y e^{-kt} + (kx) (\\beta 2 x y e^{-kt}) + (-ky) (\\beta x^2 e^{-kt}) = \n",
    "k \\beta e^{-kt} (1 + 2 - 1) x^2 y = 2 k \\beta e^{-kt} x^2 y$$"
   ]
  },
  {
   "cell_type": "code",
   "execution_count": null,
   "metadata": {
    "collapsed": true
   },
   "outputs": [],
   "source": []
  },
  {
   "cell_type": "markdown",
   "metadata": {},
   "source": [
    "## Zadanie 2\n",
    "### a)\n",
    "$\\vec{u} = \\vec{u}(x, y)$, $\\vec{u} = \\nabla \\times (\\psi\\hat{z})$"
   ]
  },
  {
   "cell_type": "markdown",
   "metadata": {},
   "source": [
    "i) Warunek $\\psi = C$ implikuje, że linie prądu $\\vec{u}(x,y)$ są wszędzie ortogonalne do gradientu $\\psi$:\n",
    "\n",
    "$$\\vec{u} \\cdot \\nabla \\psi = 0$$\n",
    "\n",
    "$$\\nabla \\psi = [\\frac{\\partial \\psi}{\\partial x}, \\frac{\\partial \\psi}{\\partial y}]$$\n",
    "\n",
    "$$\\vec{u} = \\nabla \\times (\\psi \\hat{z}) = \\hat{x} \\partial_y \\psi - \\hat{y} \\partial_x \\psi = [\\frac{\\partial \\psi}{\\partial y}, -\\frac{\\partial \\psi}{\\partial x}]  $$"
   ]
  },
  {
   "cell_type": "markdown",
   "metadata": {},
   "source": [
    "$$\\vec{u} \\cdot \\nabla \\psi = \\frac{\\partial \\psi}{\\partial x} \\frac{\\partial \\psi}{\\partial y} - \\frac{\\partial \\psi}{\\partial y} \\frac{\\partial \\psi}{\\partial x} = 0$$"
   ]
  },
  {
   "cell_type": "markdown",
   "metadata": {},
   "source": [
    "ii) Szybkość przepływu to $|\\vec{u}| = \\sqrt{u_x^2 + u_y^2 }$. Jako że linie prądu są wyznaczone przez $\\psi = C$, lokalne zagęszczenie prądu można wyrazić przez $|\\nabla \\psi| = \\sqrt{(\\frac{\\partial \\psi}{\\partial x})^2 + (\\frac{\\partial \\psi}{\\partial y})^2}$.\n",
    "\n",
    "Podstawiając składowe $\\vec{u}$:\n",
    "\n",
    "$$|\\vec{u}|^2 = u_x^2 + u_y^2 = (\\frac{\\partial \\psi}{\\partial y})^2 + (-\\frac{\\partial \\psi}{\\partial x})^2 = |\\nabla \\psi|^2$$"
   ]
  },
  {
   "cell_type": "markdown",
   "metadata": {},
   "source": [
    "iii) $\\vec{\\omega} = \\nabla \\times \\vec{u}$\n",
    "\n",
    "Definiując $\\vec{A} = \\psi \\hat{z}$:\n",
    "\n",
    "$$ \\vec{\\omega} = \\nabla \\times \\nabla \\times \\vec{A} $$"
   ]
  },
  {
   "cell_type": "markdown",
   "metadata": {},
   "source": [
    "Korzystając ze znanego twierdzenia analizy wektorowej\n",
    "\n",
    "$$\\vec{\\omega} = \\nabla (\\nabla \\cdot \\vec{A}) - \\nabla^2 \\vec{A}$$"
   ]
  },
  {
   "cell_type": "markdown",
   "metadata": {},
   "source": [
    "$$\\nabla \\cdot \\vec{A} = \\frac{\\partial \\psi}{\\partial z}$$\n",
    "\n",
    "Jako że przepływ jest dwuwymiarowy, możemy założyć $\\nabla \\cdot \\vec{A} = \\frac{\\partial \\psi}{\\partial z} = 0$."
   ]
  },
  {
   "cell_type": "markdown",
   "metadata": {},
   "source": [
    "$$\\nabla^2 \\vec{A} = [\\nabla^2 A_x, \\nabla^2 A_y, \\nabla^2 A_z] = \\hat{z} \\nabla^2 \\psi = \\hat{z} (\\frac{\\partial^2 \\psi}{\\partial x^2} + \\frac{\\partial^2 \\psi}{\\partial y^2})$$\n",
    "\n",
    "Toteż:\n",
    "\n",
    "$$\\vec{\\omega} = \\hat{z} \\nabla^2 \\psi = \\nabla^2 \\vec{A} $$"
   ]
  },
  {
   "cell_type": "markdown",
   "metadata": {},
   "source": [
    "### b)\n",
    "$\\vec{u} = \\vec{u}(r, \\phi)$, $\\vec{u} = \\nabla \\times \\psi \\hat{z}$"
   ]
  },
  {
   "cell_type": "markdown",
   "metadata": {},
   "source": [
    "i) Ponownie, należy dowieść że $\\vec{u} \\cdot \\nabla \\psi = 0$\n",
    "\n",
    "$$\\nabla \\psi = [\\frac{\\partial \\psi}{\\partial r}, \\frac{1}{r} \\frac{\\partial \\psi}{\\partial \\theta}]$$\n",
    "\n",
    "$$\\vec{u} = \\nabla \\times (\\psi \\hat{z}) =  [\\frac{1}{r} \\frac{\\partial \\psi}{\\partial \\theta}, -\\frac{\\partial \\psi}{\\partial r}]  $$"
   ]
  },
  {
   "cell_type": "markdown",
   "metadata": {},
   "source": [
    "Pochodne zerują się nawzajem po skosie, więc:\n",
    "$$\\vec{u} \\cdot \\nabla \\psi = 0$$"
   ]
  },
  {
   "cell_type": "markdown",
   "metadata": {},
   "source": [
    "ii) $$|u|^2 = u_r^2 + u_\\theta^2 = (\\frac{1}{r} \\frac{\\partial \\psi}{\\partial \\theta})^2 +(-\\frac{\\partial \\psi}{\\partial r})^2$$\n",
    "\n",
    "$$|\\nabla \\psi|^2 = (\\frac{\\partial \\psi}{\\partial r})^2 + (\\frac{1}{r} \\frac{\\partial \\psi}{\\partial \\theta})^2$$\n",
    "\n",
    "$$|\\nabla \\psi|^2 = |u|^2$$"
   ]
  },
  {
   "cell_type": "markdown",
   "metadata": {},
   "source": [
    "iii) Podobnie jak wcześniej, $$\\omega = \\nabla \\times \\nabla \\times \\vec{A} = \\nabla (\\nabla \\cdot \\vec{A}) - \\nabla^2 \\vec{A} $$\n",
    "\n",
    "$$\\nabla \\cdot \\vec{A} =  \\frac{\\partial \\psi}{\\partial z} = 0$$\n",
    "\n",
    "$$-\\nabla^2 \\vec{A} = -\\nabla^2 \\psi \\hat{z}$$"
   ]
  },
  {
   "cell_type": "markdown",
   "metadata": {},
   "source": [
    "### c)\n",
    "\n",
    "$\\vec{u} = \\vec{u}(r, z)$, $\\vec{u} = \\nabla \\times \\frac{\\psi}{r}\\hat{\\theta}$\n",
    "\n",
    "i) Ponownie, należy dowieść że $\\vec{u} \\cdot \\nabla \\psi = 0$\n",
    "\n",
    "$$\\nabla \\psi = [\\frac{\\partial \\psi}{\\partial r}, \\frac{1}{r} \\frac{\\partial \\psi}{\\partial \\theta}, \\frac{\\partial\\psi}{\\partial z}]$$\n",
    "\n",
    "$$\\vec{u} = \\nabla \\times \\frac{\\psi}{r}\\hat{\\theta}$$"
   ]
  },
  {
   "cell_type": "markdown",
   "metadata": {},
   "source": []
  }
 ],
 "metadata": {
  "anaconda-cloud": {},
  "kernelspec": {
   "display_name": "Python [conda root]",
   "language": "python",
   "name": "conda-root-py"
  },
  "language_info": {
   "codemirror_mode": {
    "name": "ipython",
    "version": 3
   },
   "file_extension": ".py",
   "mimetype": "text/x-python",
   "name": "python",
   "nbconvert_exporter": "python",
   "pygments_lexer": "ipython3",
   "version": "3.5.2"
  }
 },
 "nbformat": 4,
 "nbformat_minor": 1
}
