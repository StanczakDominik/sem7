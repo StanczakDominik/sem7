{
 "cells": [
  {
   "cell_type": "markdown",
   "metadata": {},
   "source": [
    "Skończyliśmy na dwóch gaussowskich peakach, których średnie również zbiegają do Gaussowskich peaków.\n",
    "\n",
    "$$g(n) = \\frac{1}{\\sqrt{2 \\pi}} \\frac{e^{-x^2/2}}{x}$$\n",
    "$$ x = \\frac{\\mu_1 - \\mu_2}{\\sqrt{\\sigma_1^2 + \\sigma_2 ^2}} \\sqrt{n} $$\n",
    "\n",
    "$q$ można oszacować **od góry** jako ogon rozkładu prawdopodobieństwa. Szacujemy z góry wsadzając w całkę z rozgładu od $x$ do $\\inf$ czynnik $t/x > 1$ Dostajemy ostatecznie gaussowski rozkład.\n",
    "\n",
    "> To jest państwu potrzebne w tym momencie... no nie za bardzo.\n",
    "\n",
    "> Notabene w książce Goldberga, w której jest to wyprowadzenie, to ono jest zrobione źle.\n",
    "\n",
    "W każdym razie, jest taki magiczny punkt gdzie zeruje się pochodna $\\frac{\\partial L(N, n)}{\\partial n} = 0$.\n",
    "\n",
    "Optymalny podział prób wymaga aby liczba prób z lepszym ramieniem rosła superwykładniczo - chociaż troszkę szybciej niż wykładniczo. *Odniesienie do populacji drapieżników w predator-prey w DUNach?*\n",
    "\n",
    "> Liczba prób dobrym ramieniem, liczba schematu który będzie się pojawiał w al.gen. - liczba schematów prowadzących do dobrego rozwiązania też powinna rosnąć wykładniczo w populacji."
   ]
  },
  {
   "cell_type": "markdown",
   "metadata": {},
   "source": [
    "Lepszą analogią do Algenów jest\n",
    "# **problem $k$-ramiennego bandyty**\n",
    "Układ $k$ ramion. Optymalny podział prób wymaga żeby liczba prób z lepszym ramieniem rosła wykładniczo.\n",
    "\n",
    "> To jeszcze nie jest to samo co al.gen. - tam rozpatrujemy wiele problemów k-ramiennego bandyty jednocześnie - zestaw **konkurujących schematów**.\n",
    "\n",
    "Takie schematy, gdzie na każdej pozycji $i = 1, 2, 3... L$ ($L - $ długość chromosomu)\n",
    "* albo $a_i = b_i = *$ (dowolny symbol)\n",
    "* albo $a_i \\neq b_i \\neq *$ oraz $a_i \\neq b_i$ co najmniej dla jednego $i$.\n",
    "\n",
    "Przykład schematów konkurujących na pozycjach 2, 3, 5:\n",
    "```\n",
    "*00*0**\n",
    "*00*1**\n",
    "*01*0**\n",
    "...\n",
    "*11*1**\n",
    "```\n",
    "\n",
    "Prawidłowa strategia wymaga, żeby przydział miejsc dla najlepszych schematów rósł wykładniczo lub superwykładniczo."
   ]
  },
  {
   "cell_type": "markdown",
   "metadata": {},
   "source": [
    "> Osobom zainteresowanym proponuję przeczytanie rozdziału z książki Goldberga, ale nie jestem pewien czy on coś więcej wam w tej kwestii wytłumaczy."
   ]
  },
  {
   "cell_type": "markdown",
   "metadata": {},
   "source": [
    "# W jaki sposób algorytm genetyczny może sobie radzić albo nie radzić z pewnymi standardowymi problemami"
   ]
  },
  {
   "cell_type": "markdown",
   "metadata": {},
   "source": [
    "> Testując algorytmy genetyczne tworzymy pewne **benchmarki** - mamy funkcję którą optymalizujemy. To daje lepsze lub gorsze rozwiązania.\n",
    "\n",
    "> Chcemy zrozumieć problemy, na jakie może się natknąć nieskomplikowany algorytm genetyczny.\n",
    "\n",
    "Można stworzyć w miarę proste zadanie z algorytmiki czy matematyki, funkcję mającą globalne optimum i zobaczyć czy AG w nie trafi, czy w jakieś lokalne.\n",
    "\n",
    "Chcemy naruszyć \"hipotezę cegiełek\" - dobrze przystosowane schematy niskiego rzędu odgrywają kluczową rolę w działaniu AG.\n",
    "\n",
    "Najprostszy przykład: problem dwubitowy. Mamy cztery schematy rzędu 2\n",
    "```\n",
    "***0***0* - $f_{00}$\n",
    "***0***1* - $f_{01}$\n",
    "***1***0* - $f_{10}$\n",
    "***1***1* - $f_{11}$\n",
    "```\n",
    "$f$ - funkcja przystosowania, zakładamy globalne optimum na $f_{11}$ - to znaczy że $f_{11} > [f_{00}, f_{01}, f_{10}]$\n",
    "\n",
    "Problem: element tzw. zwodniczości, np. jeden lub oba schematy rzędu 1 mające suboptymalnych reprezentatów są lepsze niż odpowiedni schemat rzędu 1 mające optymalnych reprezentatów. *Czyli widzimy coś paskudnego, w czym są schowane dobre geny, ale ciężko je rozpoznać*. Na przykład: Oba schematy 01 oraz 10 mają tutaj jedynki, co przybliża je do 11.\n",
    "\n",
    "Matematycznie:\n",
    "\n",
    "$f(0*) > f(1*)$ lub $f(*0) > f(*1)$"
   ]
  },
  {
   "cell_type": "markdown",
   "metadata": {},
   "source": [
    "Globalne optimum - 11\n",
    "\n",
    "Przykład:\n",
    "> Kobiety lubią niebieskookich blondynów, ale bycie niebieskookim albo bycie blondynem nie wystarcza"
   ]
  },
  {
   "cell_type": "markdown",
   "metadata": {},
   "source": [
    "Przyjmijmy $f(0*) = (f(01) + f(00))/2$. To jest głupie o tyle, że nie musi być ta sama liczba osobników. Ale załóżmy...\n",
    "\n",
    "Z drugiego $f(00) > f(01) + f(11)$\n",
    "\n",
    "Dodając z \"lub\" stronami i skracając wyrazy po obu stronach,\n",
    "\n",
    "$f(00) > f(11)$"
   ]
  },
  {
   "cell_type": "markdown",
   "metadata": {},
   "source": [
    "# Unormowanie\n",
    "(wszystko jest do tej pory według Goldberga)\n",
    "\n",
    "$r = f_{11}/f_{00}$, $c=f_{01}/f_{00}$, $c' = f_{10}/f_{00}$\n",
    "\n",
    "Globalność: $ r > 1, c, c'$.\n",
    "\n",
    "Zwodniczość: $r < 1 + c - c' = f_{11} < f_{00} + f_{01} - f_{10}$\n",
    "Więc:\n",
    "$$f_{11} + f_{10} < f_{00} + f_{01}$$ (równoważne tej pierwszej nierówności\n",
    "\n",
    "$c-c' > 0$\n",
    "\n",
    "$ r < (1-c') + c $\n",
    "\n",
    "$1 - c' > 0$\n",
    "\n",
    "$c' < 1$\n",
    "\n",
    "$f_{01} > f_{10}$\n",
    "\n",
    "$f_{10} < f_{00}$\n",
    "\n",
    "$f_{10} < f_{01}, f_{00}$\n",
    "\n",
    "1. $c > 1$ znaczy że $f_{01} > f_{00}$ - problem zwodniczy pierwszego rodzaju, łatwiejszy do rozwiązania. Ten kto ma trochę cech najlepszego jest trochę lepszy\n",
    "2. $c < 1$ znaczy że $f_{01} < f_{00}$ - ten kto nie ma żadnych cech najlepszego nie jest najgorszy. Problem zwodniczy drugiego rodzaju."
   ]
  },
  {
   "cell_type": "code",
   "execution_count": null,
   "metadata": {
    "collapsed": true
   },
   "outputs": [],
   "source": []
  },
  {
   "cell_type": "code",
   "execution_count": 7,
   "metadata": {
    "collapsed": false
   },
   "outputs": [
    {
     "data": {
      "text/plain": [
       "<mpl_toolkits.mplot3d.art3d.Path3DCollection at 0x7f8d7b5364a8>"
      ]
     },
     "execution_count": 7,
     "metadata": {},
     "output_type": "execute_result"
    },
    {
     "data": {
      "image/png": "[encoded data removed]",
      "text/plain": [
       "<matplotlib.figure.Figure at 0x7f8d7b5650b8>"
      ]
     },
     "metadata": {},
     "output_type": "display_data"
    }
   ],
   "source": [
    "import matplotlib.pyplot as plt\n",
    "import numpy as np\n",
    "from mpl_toolkits.mplot3d import Axes3D\n",
    "%matplotlib inline\n",
    "\n",
    "fig = plt.figure()\n",
    "ax = fig.add_subplot(111, projection='3d')\n",
    "ax.set_title(\"Przypadek 1\")\n",
    "\n",
    "x = y = np.arange(2)\n",
    "X, Y = np.meshgrid(x,y)\n",
    "f = np.zeros((2,2))\n",
    "f[0,0] = 2\n",
    "f[1,0] = 1\n",
    "f[0,1] = 3\n",
    "f[1,1] = 4\n",
    "\n",
    "# ax.plot_wireframe(X,Y,f)\n",
    "ax.contourf(X,Y,f)\n",
    "#srednia: f_{0*}\n",
    "ax.scatter([0], [0.5], [(2+3)/2])\n",
    "#srednia: f_{1*}\n",
    "ax.grid()\n",
    "\n",
    "ax.scatter([1], [0.5], [(4+1)/2])"
   ]
  },
  {
   "cell_type": "code",
   "execution_count": null,
   "metadata": {
    "collapsed": true
   },
   "outputs": [],
   "source": []
  },
  {
   "cell_type": "raw",
   "metadata": {},
   "source": [
    "W drugim przypadku"
   ]
  },
  {
   "cell_type": "code",
   "execution_count": null,
   "metadata": {
    "collapsed": true
   },
   "outputs": [],
   "source": [
    "f[0,0] = 3\n",
    "f[1,0] = 1\n",
    "f[0,1] = 2\n",
    "f[1,1] = 4"
   ]
  },
  {
   "cell_type": "markdown",
   "metadata": {},
   "source": [
    "Są to w każdym razie płaszczyzny, nieliniowe, więc\n",
    "$$f(x_1, x_2) \\neq ax_1 + bx_2$$\n",
    "\n",
    "a co najmniej\n",
    "\n",
    "$$f(x_1, x_2) = ax_1 + bx_2 + cx_1x_2$$"
   ]
  }
 ],
 "metadata": {
  "anaconda-cloud": {},
  "kernelspec": {
   "display_name": "Python 3",
   "language": "python",
   "name": "python3"
  },
  "language_info": {
   "codemirror_mode": {
    "name": "ipython",
    "version": 3
   },
   "file_extension": ".py",
   "mimetype": "text/x-python",
   "name": "python",
   "nbconvert_exporter": "python",
   "pygments_lexer": "ipython3",
   "version": "3.6.0"
  }
 },
 "nbformat": 4,
 "nbformat_minor": 1
}
