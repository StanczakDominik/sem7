{
 "cells": [
  {
   "cell_type": "markdown",
   "metadata": {},
   "source": [
    "# Diploidal encoding (Kodowanie diploidalne)\n",
    "\n",
    "The fenotype depends on the genotype in which there are two sets (komplety) of genes necessary to create a fenotype.\n",
    "\n",
    "So we have two homologic chromosome, we can have genes (a, A) on the first spot, (b, B) on the second, etcetera.\n",
    "\n",
    "Example: we have two chromosomes:\n",
    "```\n",
    "abcDE\n",
    "AbcdE\n",
    "```\n",
    "What we still need is a rule that states which one of these (a or A, for example) expresses itself (think genetics and hair color in that known simple model). If we assume the capital letter is expressed (and, like in biology, call the lowercase (non-expressive) gene the **recessive** one and the expressive (in a pair) one would be the **dominating** gene.\n",
    "\n",
    "In our example, we'd have\n",
    "```\n",
    "AbcDE\n",
    "```\n",
    "and this would create our fenotype.\n",
    "\n",
    "To be even more concrete, say our pairs coresspond to\n",
    "* (a, A) - (blond hair, dark hair)\n",
    "* (b, B) - (blue, brown eyes)\n",
    "* (c, C) - (short, tall)\n",
    "\n",
    "\n",
    "Up until now we've been talking about halpoidal chromosomes (\"haploidy\") - there were no homologic chromosomes.\n",
    "\n",
    "Diploidality allows a better adaptation to a varying (with time) environment. Example: there's a moth in England who changed wing color after the Industrial Revolution (to better fit to a polluted environment).\n",
    "\n",
    "If suddenly a is preferred to A, we can either change the mechanism of expression (change your code, this happens in nature in some cases!) or say that when a meets a, the lowercase a fenotype (above: blond hair) expresses itself. Selection pressure will do the rest, as lowercase a's will be preferred in future populations."
   ]
  },
  {
   "cell_type": "markdown",
   "metadata": {},
   "source": [
    "For our purposes, we will have two types of genes:\n",
    "\n",
    "* Functional genes (\"Geny funkcyjne\") {0, 1} as before\n",
    "* or modifier genes {m, M}, which describe a domination mechanism.\n",
    "\n",
    "Gene 0 dominates in a fenotype if at least one of homologic chromosomes includes M."
   ]
  },
  {
   "cell_type": "markdown",
   "metadata": {},
   "source": [
    "|  | 0M | 0m | 1M | 1m |\n",
    "|--|----|----|----|----|\n",
    "|0M| 0  | 0  | 0  | 0  |\n",
    "|0m| 0  | 0  | 0  | 1  |\n",
    "|1M| 0  | 0  | 1  | 1  |\n",
    "|1m| 0  | 1  | 1  | 1  |\n",
    "\n",
    "We have a pretty trivial chromosome: only one gene is functional and only one is a modifier.\n",
    "\n",
    "the 1m0m and 0m1m case is the same: the domination mechanism is off."
   ]
  },
  {
   "cell_type": "markdown",
   "metadata": {},
   "source": [
    "# Triallelic encoding (kodowanie triallelilczne)\n",
    "\n",
    "Our genes can now be {0, 1, 2}. However, 1 is recessive and 2 is dominating. The fenotype is binary: {0, 1}. Both genes 1 and 2 encode the fenotype 1, but gene 2 is a stronger version of gene 1.\n",
    "\n",
    "|  | 0 | 1 | 2 |\n",
    "|--|---|---|---|\n",
    "|0 | 0 | 0 | 1 |\n",
    "|1 | 0 | 1 | 1 |\n",
    "|2 | 1 | 1 | 1 |\n",
    "\n",
    "## How to use this in practice, while coding? How to implement this?\n",
    "\n",
    "This is also in Goldberg's p167\n",
    "\n",
    "### The Backpack Problem (zagadnienie plecakowe)\n",
    "\n",
    "We want to fit a bunch of objects , each with value $w_i$, mass $a_i$ and volume $V_i$ (these can be other parameters), in a backpack (fixed volume). We want to find a set $I = \\{i\\} = ?$, so that $\\sum_I w_i = max$ and $\\sum_I a_i < $ some given limit of how much we can lift denoted by $A$ and $\\sum_I V_i < $ backpack volume $B$.\n",
    "\n",
    "Apparently this is typical."
   ]
  },
  {
   "cell_type": "code",
   "execution_count": null,
   "metadata": {
    "collapsed": true
   },
   "outputs": [],
   "source": [
    "import numpy as np\n",
    "N = 10\n",
    "A = 10\n",
    "B = 10\n",
    "np.random.seed(0)\n",
    "w = np.random.random(N)\n",
    "a = np.random.random(N)\n",
    "b = np.random.random(N)\n",
    "\n",
    "def value_function(w):\n",
    "    return w.sum()\n",
    "\n",
    "def constraints(a, A, b, B):\n",
    "    return a.sum() < A and b.sum() < B\n",
    "\n"
   ]
  },
  {
   "cell_type": "markdown",
   "metadata": {},
   "source": [
    "Suppose the problem changes with time: $a_i$ could change (drink water out of bottle on a trip, remove)\n",
    "\n",
    "Say $w_7(t)$ oscillates between two values in a square wave fashion (once per one hundred generations). Or maybe $A(t)$ depends on time?\n",
    "\n",
    "* With haploidal encoding\n",
    "* with diploidal encoding\n",
    "\n",
    "#TODO: PHOTO 1 \n",
    "\n",
    "Note that the average effectiveness of diploidal encoding is lower (80% to 90%), and that haploidal encoding after a long time would also reach optimal values after an adverse change of environment conditions - but that would require a WHOLE LOT OF MUTATIONS."
   ]
  },
  {
   "cell_type": "markdown",
   "metadata": {},
   "source": [
    "# Podstawowe twierdzenie algorytmów genetycznych dla dipoidów\n",
    "\n",
    "(basic statement of genetic algorithms for the case of diploides)\n",
    "\n",
    "```\n",
    "H0: xx0x     f(H_0) = f_d     f_r < f_d\n",
    "H1: xx1x     f(H_1) = f_r     1 is, thus, recessive\n",
    "```\n",
    "\n",
    "Diploidality allows us to leave a certain pool of recessives.\n",
    "\n",
    "Define $p$ a probability of a recessive gene. We're looking for $p^{t+1}$. To first approximation,\n",
    "\n",
    "$$p^{t+1} = \\frac{(p^t)^2 f_r + p^t (1-p^t) f_d } {(p^t)^2 f_r + (1-p^t)^2 ) f_d}$$\n",
    "\n",
    "We've left out mutation and went with the \"dominacja prosta\" (basic domination) scheme.\n",
    "\n",
    "This is what we get once we incorporate selection\n",
    "\n",
    "The denominator is the average population fitness. Two recessives meet with probability $ (p^t)^2$ and then we get a fitness of $f_r$. In all other cases we get $f_d$ fitness from the dominant fenotype.\n",
    "\n",
    "In the nominator: the recessive gene can propagate further if two recessives meet ($(p^t)^2$). The second factor in the nominator is called the \"masking effect\" (efekt maskowania).\n",
    "1. A recessive meets a dominative, $p^t (1-p^t)$\n",
    "2. the dominative fenotype is expressed, f_d$\n",
    "3. the hidden recessive is selected into the next generation even though it wasn't expressed."
   ]
  },
  {
   "cell_type": "markdown",
   "metadata": {},
   "source": [
    "$$p^{t+1} = p_t \\frac{(p^t f_r + (1-p^t) f_d } {(p^t)^2 f_r + (1-p^t)^2 ) f_d} K$$\n",
    "\n",
    "where\n",
    "\n",
    "$$ K = 1 - p_c \\frac{\\delta(H)}{L-1} - o(H) p_...?$$\n",
    "\n",
    "is the factor responsible for crossover and mutation.\n",
    "\n",
    "In the limiting case of $p_t << 1$\n",
    "\n",
    "$$p_{t+1} \\sim K p^t $$\n",
    "\n",
    "If $K \\sim 1$, the recessives remain at a relatively constant level of representation in the population after a long time.\n",
    "\n",
    "### For haploides\n",
    "(1 chromosome)\n",
    "\n",
    "$$p_{t+1} = \\frac{p^t f_r K}\n",
    "{p^t f_r + (1-p^t) f_d}$$\n",
    "\n",
    "Once again assuming $p^t << 1$, the expression goes to \n",
    "$$p_{t+1} \\to \\frac{p^t f_r K}\n",
    "{f_d}$$\n",
    "\n",
    "Thus for $f_r/f_d << 1$, the expression is $<<1$ - recessives are lost much, much faster than for diploides.\n",
    "\n",
    "$$r = f_d / f_r >> 1$$\n",
    "\n",
    "(plot below has some bugs)"
   ]
  },
  {
   "cell_type": "code",
   "execution_count": 15,
   "metadata": {
    "collapsed": false
   },
   "outputs": [
    {
     "data": {
      "image/png": "[encoded data removed]",
      "text/plain": [
       "<matplotlib.figure.Figure at 0x7fdff2079da0>"
      ]
     },
     "metadata": {},
     "output_type": "display_data"
    }
   ],
   "source": [
    "import numpy as np\n",
    "import matplotlib.pyplot as plt\n",
    "%matplotlib inline\n",
    "r = 2\n",
    "p1 = 0.5\n",
    "p2 = 0.5\n",
    "p1_list = []\n",
    "p2_list = []\n",
    "NT = 300\n",
    "for i in range(NT):\n",
    "    p1r = 1/(r+p1*(1-r))\n",
    "    p2r = 1*(p2 + (1-p2)*r)/(p2**2 + (1-p2**2)*r)\n",
    "    p1 *= p1r\n",
    "    p2 *= p2r\n",
    "    p2_list.append(p2r)\n",
    "    p1_list.append(p1r)\n",
    "plt.plot(range(NT), p1_list, label=\"Haploides\")\n",
    "plt.plot(range(NT), p2_list, label=\"Diploides, {}\".format(sum(p2_list)/NT))\n",
    "plt.legend()\n",
    "plt.show()"
   ]
  },
  {
   "cell_type": "markdown",
   "metadata": {},
   "source": [
    "Długoterminowa pamięć dla haploidu! Recesywy w układzie nie giną!"
   ]
  },
  {
   "cell_type": "markdown",
   "metadata": {},
   "source": [
    "For haploides: $$p^{t+1} = (1-\\varepsilon) p^t + p_m (1-p^t) - p_m p^t $$\n",
    "\n",
    "For a fixed point, set $p^{t+1} = p^t$:\n",
    "\n",
    "$$\\varepsilon p^t =  p_m (1- 2 p^t)$$\n",
    "$$p^t (\\varepsilon + 2 p_m) = p_m / (\\varepsilon + 2 p_m) \\sim p_m \\ varepsilon$$"
   ]
  }
 ],
 "metadata": {
  "kernelspec": {
   "display_name": "Python 3",
   "language": "python",
   "name": "python3"
  },
  "language_info": {
   "codemirror_mode": {
    "name": "ipython",
    "version": 3
   },
   "file_extension": ".py",
   "mimetype": "text/x-python",
   "name": "python",
   "nbconvert_exporter": "python",
   "pygments_lexer": "ipython3",
   "version": "3.5.2"
  }
 },
 "nbformat": 4,
 "nbformat_minor": 1
}
