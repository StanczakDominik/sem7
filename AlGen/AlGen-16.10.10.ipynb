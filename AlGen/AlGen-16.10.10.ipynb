{
 "cells": [
  {
   "cell_type": "markdown",
   "metadata": {},
   "source": [
    "### Dygresja na nagrodę nobla za topologiczne przejścia fazowe\n",
    "Model magnetyka 2D XY (ten który już nie jest modelem Isinga ale jeszcze nie jest modelem Schrodingera)\n",
    "\n",
    "$$H = -J \\vec{S_n} \\cdot \\vec{S_m}$$\n",
    "$$S_n = S_nx \\hat{e_x} + S_ny \\hat{e_y}$$\n",
    "\n",
    "* Parametr porządku - ile składowych wektora\n",
    "* Dwuwymiarowa siatka"
   ]
  },
  {
   "cell_type": "code",
   "execution_count": 3,
   "metadata": {
    "collapsed": false
   },
   "outputs": [
    {
     "data": {
      "image/png": "[encoded data removed]",
      "text/plain": [
       "<matplotlib.figure.Figure at 0xab62c30c>"
      ]
     },
     "metadata": {},
     "output_type": "display_data"
    },
    {
     "data": {
      "text/plain": [
       "<matplotlib.image.AxesImage at 0xab62da0c>"
      ]
     },
     "execution_count": 3,
     "metadata": {},
     "output_type": "execute_result"
    },
    {
     "data": {
      "image/png": "[encoded data removed]",
      "text/plain": [
       "<matplotlib.figure.Figure at 0xab5e8f6c>"
      ]
     },
     "metadata": {},
     "output_type": "display_data"
    }
   ],
   "source": [
    "import numpy as np\n",
    "import matplotlib.pyplot as plt\n",
    "%matplotlib inline\n",
    "N = 16\n",
    "spiny = np.zeros((2, N, N))\n",
    "spiny[0,:,:] = 1\n",
    "\n",
    "plt.imshow(spiny[0])\n",
    "plt.show()\n",
    "plt.imshow(spiny[1])"
   ]
  },
  {
   "cell_type": "code",
   "execution_count": 16,
   "metadata": {
    "collapsed": false
   },
   "outputs": [
    {
     "name": "stdout",
     "output_type": "stream",
     "text": [
      "-4.0\n"
     ]
    }
   ],
   "source": [
    "J = 1\n",
    "beta = 1\n",
    "def flip(spin_index):\n",
    "    directions = np.array([[0,1],[0,-1],[1,0],[-1,0]])\n",
    "    dE = 0\n",
    "    x, y = spin_index\n",
    "    for direction in directions:\n",
    "        xv, yv = direction\n",
    "        dE -= J * (spiny[:, x, y] @ spiny[:, (x + xv)%N, (y+yv)%N])\n",
    "    prob = np.exp(-beta*dE)\n",
    "    if np.random.random() < prob:\n",
    "        spiny[:, x, y] *= -1  #obracam spin o 180 stopni\n",
    "                              #ale on tutaj przecież może mieć wartości\n",
    "                              #rzeczywiste? czy a[1,1], [1,0], [0,1]...?\n",
    "    \n",
    "flip(np.array([int(N/2), int(N/2)]))"
   ]
  },
  {
   "cell_type": "markdown",
   "metadata": {},
   "source": [
    "W wysokich temperaturach $T > T_C$ tworzą się **wiry magnetyzacji**, przypadkowo skierowane względem siebie - nie ma makroskopowej magnetyzacji.\n",
    "\n",
    "W miarę zmniejszania się temperatury tworzą się **pary wir-antywir**\n",
    "\n",
    "**Topologiczne przejście fazowe** jest dlatego że wiry mają inną postać przy przekraczaniu $T_C$ - albo pojedyncze, albo w parach.\n",
    "\n",
    "**Solitony magnetyczne** w łańcuchu 1D-2D. W wysokich temperaturach przypadkowe rozłożenie, w niskich przejście do synchronizacji z drugim łańcuchem.\n",
    "\n",
    "**Haldane**:\n",
    "> To jest za bardzo złożone, żebym państwu to powiedział, bo ja sam tego nie rozumiem\n",
    "\n",
    "Zjawisko kwantowe: łańcuch spinów kwantowych zachowuje się inaczej dla spinów $n$ oraz $n+1/2$ zachowuje się zupełnie inaczej nawet gdy $n >> 1$"
   ]
  },
  {
   "cell_type": "markdown",
   "metadata": {},
   "source": [
    "# Kodowanie: przejście od fenotypu do genotypu\n",
    "\n",
    "1. Pierwszy etap: kodowanie fenotyp-genotyp\n",
    "2. Drugi etap: populacja początkowa\n",
    "3. Trzeci etap: operatory\n",
    "    1. reprodukcji (koło ruletki)\n",
    "    2. crossover (krzyżowania, P rzędu 0.7-0.9)\n",
    "        * wybieramy losowy punkt rozcięcia każdego z dwóch ciągów (wspólny)\n",
    "        * wymieniamy wszystko np. na lewo lub na prawo (też losowo?)\n",
    "    3. mutacji (P rzędu $10^{-4}$ na każdy kolejny gen)\n",
    "    * powtarzamy trzeci etap do kiedyś"
   ]
  },
  {
   "cell_type": "markdown",
   "metadata": {},
   "source": [
    "Warunki zakończenia algorytmu:\n",
    "1. $\\bar{f}_T (x_i)_i > c$, $T$ - numer generacji: gdy średnia wartość funkcji ze wszystkich osobników jest większa niż coś co chcemy znaleźć, $c$\n",
    "2. $max_i f_T (x_i) > c$, tylko maksimum, nie średnia\n",
    "3. $t > T$, dla leniwych\n",
    "4. Unormowana (np. do średniej arytmetycznej) względna różnica średnich wartości funkcji w dwóch kolejnych iteracjach poniżej epsilon\n",
    "5. Jak wyżej, ale maksimum zamiast tego\n",
    "$$\\frac{\n",
    "|max_i f_{T-1} (x_i) - max_i f_T (x_i) |\n",
    "}\n",
    "{\n",
    "0.5 ( max_i f_{T-1} {x_i} - max_i + max_i f_T(x_i) )\n",
    "}\n",
    "< \\epsilon \\sim 10^{-2}\n",
    "$$\n",
    "    "
   ]
  },
  {
   "cell_type": "markdown",
   "metadata": {},
   "source": [
    "# Przykład\n",
    "$$f(x_i) = x_i^2$$\n",
    "$$x_i \\in [0, 1, 2... 1023]$$\n",
    "Ciąg 10 zer i jedynek"
   ]
  },
  {
   "cell_type": "code",
   "execution_count": 26,
   "metadata": {
    "collapsed": false
   },
   "outputs": [
    {
     "data": {
      "text/plain": [
       "322"
      ]
     },
     "execution_count": 26,
     "metadata": {},
     "output_type": "execute_result"
    }
   ],
   "source": [
    "import numpy as np\n",
    "\n",
    "k = 10\n",
    "\n",
    "def f(x):\n",
    "    return x**x\n",
    "\n",
    "alpha = np.random.randint(0,2, k)\n",
    "n = np.arange(1, k+1, dtype=float)\n",
    "\n",
    "def alpha_to_number(alpha):\n",
    "    return int(np.sum(alpha*2**(k-n)))\n",
    "\n",
    "alpha_to_number(alpha)"
   ]
  },
  {
   "cell_type": "markdown",
   "metadata": {},
   "source": [
    "gen - to co stoi w chromosomie, gen 1 = 0, gen 2 = 1, gen 1 = 0...\n",
    "allel - możliwe wartość genu, ${0,1}$"
   ]
  },
  {
   "cell_type": "code",
   "execution_count": 28,
   "metadata": {
    "collapsed": false
   },
   "outputs": [
    {
     "data": {
      "text/plain": [
       "0"
      ]
     },
     "execution_count": 28,
     "metadata": {},
     "output_type": "execute_result"
    }
   ],
   "source": [
    "alpha[0] #pierwszy gen"
   ]
  },
  {
   "cell_type": "code",
   "execution_count": 40,
   "metadata": {
    "collapsed": false
   },
   "outputs": [
    {
     "name": "stdout",
     "output_type": "stream",
     "text": [
      "[0 1 0 1 0 0 0 0 1 0]\n"
     ]
    }
   ],
   "source": [
    "print(alpha)"
   ]
  },
  {
   "cell_type": "markdown",
   "metadata": {},
   "source": [
    "W tym układzie musi stać 1 z przodu ($1 * 10^9$)\n",
    "\n",
    "> Słowo dominujący zastrzegamy do czegoś innego. Te geny są **ważne**."
   ]
  },
  {
   "cell_type": "markdown",
   "metadata": {},
   "source": [
    "# Przypadek nr 2\n",
    "\n",
    "$$f(x, y) = x^2 + y^2$$\n",
    "\n",
    "Kodujemy przez parę liczb w układzie dziesiętnym\n",
    "|xxxxxxxx|yyyyyyyy|\n",
    "$$x, y \\in [0, 1, 2... 1023]$$\n",
    "\n",
    "**wbrew pozorom to jest problem pod maksymalizację!**\n",
    "\n",
    "Musimy mieć w oczywisty sposób\n",
    "|1xxxxxxx|1yyyyyy|\n",
    "\n",
    "Ale to wysadza krzyżowanie w powietrze. :( Potencjalne rozwiązanie: macierz 2xN:\n",
    "```\n",
    "|1xxxxxx|\n",
    "|1yyyyyy|\n",
    "```\n",
    "\n",
    "Alternatywnie na przemian: |xyxyxyxyxyxyxyxyxyxyxyxyxyxyxyxyxyxyxyxyxyxyxyxyxyxyxyxyxyxyxyxyxyxyxyxyxyxyxyxyxyxyxyxyxyxyxyxyxyxyxyxyxyxyxyxyxyxyxyxyxyxyxyxyxyxyxyxyxyxyxyxyxyxyxyxyxyxyxyxyxyxyxyxyxyxyxyxyxy|"
   ]
  },
  {
   "cell_type": "markdown",
   "metadata": {},
   "source": [
    "Musimy zadbać o to żeby geny odpowiadające wspólnie za ważne cechy były blisko siebie (grupy genów!) i były odporne na crossover.\n",
    "\n",
    "Jak słusznie zauważa Pasza: zwykle nie wiemy, które są istotne. W poważnych pracach: najpierw stosujemy prosty algorytm, potem optymalizujemy bardziej złożonym.\n",
    "\n",
    "A gdyby było $x, y \\in (-1024, ..., 0, ..., 1023)$?\n",
    "\n",
    "Można zakodować poszczególne jako $-1024 + \\sum_k 2^k a_k$\n",
    "\n",
    "Można zrobić \n",
    "* |00000000|000000000|\n",
    "* |00000000|111111111|\n",
    "* |11111111|000000000|\n",
    "* |11111111|111111111|\n",
    "\n",
    "# Przykład 3\n",
    "\n",
    "$$ f(x) = x + 5000$$\n",
    "(chcemy żeby były wszystkie dodatnie, żeby użyć ją do metody ruletki - stałą dodaną należy wyznaczyć trochę na czuja - podobny rząd wielkości żeby dzielenie się nie sypało)\n",
    "$$x \\in (-1024, ..., 0, ..., 1023)$$\n",
    "z kodowaniem\n",
    "$$-1024 + \\sum_k 2^k a_k$$"
   ]
  },
  {
   "cell_type": "markdown",
   "metadata": {},
   "source": [
    "Ważne cechy muszą być zapisane **minimalną** ilością genów - złożona aparatura ciężej się dziedziczy niż jedno proste tak\\nie!\n",
    "\n",
    "### Podstawowe Twierdzenie Algorytmów Genetycznych: twierdzenie o schematach\n",
    "\n",
    "Schemat to 'wirtualny chromosom', np. nazwiemy takiego H: 01001\n",
    "\n",
    "Na genotyp może składać się wiele chromosomów. Genotyp to pełna informacja genetyczna. Chromosom to np. obiekt reprezentujący część genotypu.\n",
    "\n",
    "Schemat czy **metasymbol**: H1: 0xxxx, znaczy tyle: pierwszy gen ma być ustalony na 0.\n",
    "\n",
    "H2: 0xx01 - pierwszy, czwarty i piąty ustalone, dwa pozostałe dowolne\n",
    "\n",
    "Nasz chromosom H reprezentuje tak H1, jak H2.\n",
    "\n",
    "xxxxx też jest schematem, i H też jest schematem.\n",
    "\n",
    "L - długość chromosomu. N - populacja.\n",
    "\n",
    "Każdemu chromosomowi odpowiada $2^L$ schematów. (liczba wszystkich zbiorów możliwych do utworzenia z chromosomu o długości L)\n",
    "\n",
    "Maksymalna liczba schematów dla układu to $3^L$, ponieważ mamy 3 opcje na każde miejsce: $0, 1, *$.\n",
    "\n",
    "$$N_Hmax = N * 2^L - N + 1 $$\n",
    "wykluczamy same gwiazdki w $2^L$\n",
    "\n",
    "$$2^L  \\leq N_H \\leq N (2^L - 1) + 1$$\n",
    "\n",
    "> Metasymbol to znaczy cokolwiek"
   ]
  },
  {
   "cell_type": "markdown",
   "metadata": {},
   "source": [
    "N (rozmiar populacji) typowo rzędu 50.\n",
    "\n",
    "Metoda enumeratywna: działa dla małych problemów, gdy możemy przeliczyć wszystkie możliwości.\n",
    "\n",
    "Jeśli robić binary searchem, złożoność D-wymiarowego searcha jest... starczy powiedzieć że straszna."
   ]
  },
  {
   "cell_type": "markdown",
   "metadata": {},
   "source": [
    "Jeśli $ L > N \\iff 2^L > N$.\n",
    "\n",
    "Wniosek: **ilość przetwarzanych schematów jest przeważnie znacznie większa niż ilość fenotypów**. \n",
    "\n",
    "> Metaalgorytmy genetyczne: jak zaprogramować algorytm genetyczne jeśli nie wiemy, co tam jest ważne? Trzebaby mieć populację algorytmów genetycznych... Wygrywa ten algorytm genetyczny który najszybciej doprowadza nas do celu i najszybciej propaguje dobrych osobników. Może były w naturze inne podejścia niż tyle aminokwasów co mamy?"
   ]
  }
 ],
 "metadata": {
  "anaconda-cloud": {},
  "kernelspec": {
   "display_name": "Python 3",
   "language": "python",
   "name": "python3"
  },
  "language_info": {
   "codemirror_mode": {
    "name": "ipython",
    "version": 3
   },
   "file_extension": ".py",
   "mimetype": "text/x-python",
   "name": "python",
   "nbconvert_exporter": "python",
   "pygments_lexer": "ipython3",
   "version": "3.5.2"
  }
 },
 "nbformat": 4,
 "nbformat_minor": 0
}
