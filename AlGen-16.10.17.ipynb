{
 "cells": [
  {
   "cell_type": "markdown",
   "metadata": {},
   "source": [
    "# Etap selekcji\n",
    "\n",
    "$m(H, t+1) = ?$ - jaka jest liczba reprezentantów schematu $H$ w czasie $t+1$?\n",
    "\n",
    "$$ \\frac{f_j(H)}{\\sum_{i=1}^N f_i} = P_j(H)$$\n",
    "\n",
    "$$ m_j = P_j (H) N = \\frac{f_j(H)}{\\frac{1}{N} \\sum_{i=1}^N f_i} = \\frac{f_j(H)}{\\bar{f}_i(t)$$\n",
    "\n",
    "$$ m(H, t+1) = \\sum_{j \\text{ spełniające schemat } H} m_j = \\frac{\\bar{f}_j(H,t)}{\\bar{f}_i(t)} m(H,t)$$\n",
    "\n",
    "Czyli czynnik $\\frac{\\bar{f}_j(H,t)}{\\bar{f}_i(t)}$ - stosunek średniego przystosowania reprezentanta schematu $H$ nad średnie przystosowanie osobnika z całej populacji - określa przyrost ułamka populacji tego konkretnego schematu w jednej iteracji.\n"
   ]
  },
  {
   "cell_type": "markdown",
   "metadata": {},
   "source": [
    "## Etap (operator) krzyżowania\n",
    "\n",
    "Definiujemy rozpiętość schematu $L(H)$ = odległość skrajnych ustalonych genów.\n",
    "\n",
    "$$\\delta(xx00xxx) = 1 $$ \n",
    "$$\\delta(1xxxxxx0) =7 $$\n",
    "\n",
    "Tymczasem prawdopodobieństwo uruchomienia operatora krzyżowania:\n",
    "\n",
    "$$P_c \\sim 0.7 - 0.8 $$\n",
    "\n",
    "Im większe $\\delta$ tym większe $P$(zniszczenie schematu), więc to ostatnie można oszacować z góry jako $\\frac{\\delta{H}}{L-1}$. Uwzględniając $P_c$ dostaniemy $\\frac{\\delta{H}}{L-1} P_c$, zaś robiąc z tego prawdopodobieństwo pozostania osobnika, \n",
    "$(1-\\frac{\\delta{H}}{L-1} P_c)$\n",
    "\n",
    "$(1-\\frac{\\delta{H}}{L-1} P_c) \\frac{\\bar{f}_j(H,t)}{\\bar{f}_i (t)}m(H,t)$ - podobnie jak wcześniej, czynnik \"przyrostu\"????"
   ]
  },
  {
   "cell_type": "markdown",
   "metadata": {},
   "source": [
    "## Etap mutacji\n",
    "\n",
    "```\n",
    "xxxxxx - nie może być zniszczony operatorem mutacji, bo cokolwiek flipniemy wciąż pasuje\n",
    "xx0011 - może być zniszczony przez mutację\n",
    "```\n",
    "\n",
    "Definiujemy **rząd schematu** $O(H) = $ liczba ustalonych genów.\n",
    "$O(xxxxxx) = 0$\n",
    "$O(xx0011) = 4$\n",
    "Prawdopodobieństwo przejścia dalej schematu $(1-p_m)^{O(H)}$ ($p_m$ to super małe prawdopodobieństwo mutacji, więc można przybliżyć jako $1 - O(H) p_m$.\n",
    "\n",
    "Ostateczny współczynnik $m(H,t+1) = \\Big((1-\\frac{\\delta{H}}{L-1} P_c) \\frac{\\bar{f}_j(H,t)}{\\bar{f}_i (t)} (1 - O(H) p_m) \\Big) m(H,t)$\n",
    "\n",
    "Podstawowe twierdzenie algorytmów genetycznych: o schematach.\n",
    "\n",
    "Wersja dla humanistów: propagują się cegiełki.\n",
    "\n",
    "> Państwo też jesteście humanistami. Wszyscy jesteśmy humanistami.\n",
    "\n",
    "Cegiełka - schemat o małym $O(H)$, reprezentującym duże cechy\n",
    "\n",
    "**metaalgorytm genetyczny - próbujemy różnych metod kodowania \"na ośle\" ** *wat* - chcemy znaleźć optymalne wartości $p_m$, $p_c$\n",
    "\n",
    "Słowem, ten przedmiot to $(\\text{meta})^n$ algorytmy genetyczne dla dowolnego całkowitego $n$."
   ]
  },
  {
   "cell_type": "markdown",
   "metadata": {},
   "source": [
    "## Semantyka  między biologią a kodzeniem\n",
    "\n",
    "|Genetyka| Informatyka |\n",
    "|---|---|\n",
    "| Chromosom | *Ciąg* kodowy |\n",
    "| Gen | cecha, znak, detektor | \n",
    "| Allel | wariant cechy |\n",
    "| Genotyp (całkowity zbiór chromosomów potrzebnych do odtworzenia fenotypu) | Struktura |\n",
    "| Fenotyp | Rozwiązanie, punkt bądź zbiór parametrów |\n",
    "\n",
    "Zdarzają się ciągi kodowe dwuwymiarowe. Biologia tego nie robi ale jak zaprogramować wygodnie to lol.\n",
    "* Jeden sposób na crossover: pozioma i pionowa kreska\n",
    "* Inny: losowanie maski i swap po tej masce"
   ]
  },
  {
   "cell_type": "markdown",
   "metadata": {},
   "source": [
    "## Tradycyjne metody optymalizacji:\n",
    "\n",
    "1. Metody analityczne, często nieznajdujące maksimum globalnego\n",
    "    1. Metody pośrednie: pisanie równań typu $\\frac{\\partial}{\\partial x_i} F(\\vec{x}) = 0 $ i znajdowanie ekstremum. Niestety funkcja $F$ często jest mocno złożona i bardzo paskudna, więc tam to zawodzi.\n",
    "    2. Metody bezpośrednie\n",
    "        1. maksymalnego gradientu *(trzeba wymacać w którą stronę gradient jest największy)* - nie znajdują maksimów lokalnych. Można jednak wziąć grupę warunków początkowych, co jest równoważne działaniu na populacji.\n",
    "2. Metody enumeratywne (przeglądowe), typu bisekcja - zawodzą w układach wielowymiarowych (skalowanie jak $2^{20}$ czy coś)\n"
   ]
  },
  {
   "cell_type": "markdown",
   "metadata": {},
   "source": [
    "Wsio z wykładu jest w książce Goldbrerga\n",
    "\n",
    "### Uwagi ogólne o algorytmach genetycznych\n",
    "\n",
    "1. AG nie przetwarzają bezpośrednio parametrów zadań ale jego zakodowaną postać (fenotyp - genotyp)\n",
    "2. AG działają na **populacji** rozwiązań\n",
    "3. AG korzystają z funkcji celu $f(\\vec{X})$ i nie wymagają znajomości pochodnych tej funkcji celu\n",
    "4. AG stosują kombinację metod deterministycznych  i probabilistycznych (te ostatnie - mutacja, crossover).\n",
    "5. AG przeważnie nie dostarczają rozwiązań idealnych, ale lepsze niż średnie."
   ]
  },
  {
   "cell_type": "markdown",
   "metadata": {},
   "source": [
    "# OPERATOR MUTACJI JEST ODPOWIEDNIKIEM SZUMU TERMICZNEGO Z MODELU ISINGA OMG OMG OMG OMG OMG OMG OMG WAT OMG OMG OMG"
   ]
  },
  {
   "cell_type": "markdown",
   "metadata": {},
   "source": [
    "Jeśli dla danego problemu mamy metodę szczególną (wyspecjalizowaną dla problemu), to będzie ona miała przewagę nad algorytmem genetycznym. Przykład: wielomian 5 rzędu\n",
    "\n",
    "$f(x) = W_5(x) \\to f'(x) = G_4(x)$, zera wielomianu czwartego rzędu da się już znaleźć analitycznie."
   ]
  },
  {
   "cell_type": "markdown",
   "metadata": {},
   "source": [
    "# Algorytm genetyczny a teoria dwurękiego bandyty"
   ]
  },
  {
   "cell_type": "markdown",
   "metadata": {},
   "source": [
    "Bandyta jest blackboxem, możemy wrzucać pieniądze do lewej lub prawej dziury i ciągnąć za lewą lub prawą rękę. Jest jakiś element losowy i jest wypłata.\n",
    "\n",
    "Mamy N żetonów, dzielimy je na dwa typy: $2n < N$ - faza nauczania czy eksploracji, poznawania (musimy rozgryźć które ramię jest lepsze). Druga faza: ($N>(N-2n) > 0$) faza eksploatacji lepszego ramienia.\n",
    "\n",
    "Jak znaleźć optymalne $n=?$\n",
    "\n",
    "$\\mu_1, \\mu_2$ - średnie wygrane na ramieniach 1 i 2. $q(n)$ - prawdopodobieństwo tego, że po fazie eksploracji $n + n$ gorsze ramię dało lepszy wynik.\n",
    "\n",
    "$L(N, n) = strata wynikająca z przyjętej strategii w porównaniu do strategii opartej na pełnej informacji.\n",
    "\n",
    "Załóżmy $\\mu_1 > \\mu_2$. $L(N,n) = (\\mu_1-\\mu_2) \\Big[n + (N-2n)q(n)\\Big]$\n",
    "\n",
    "Załóżmy gaussowski rozkład wyników na pierwszym ramieniu:\n",
    "\n",
    "$$Q(x_1) = \\frac{1}{\\sqrt{2\\pi}G_1} \\exp{(-\\frac{(x_1-\\mu_1)^2}{2G^2})}$$\n",
    "\n",
    "$$Q(x_2) = \\frac{1}{\\sqrt{2\\pi}G_2} \\exp{(-\\frac{(x_2-\\mu_2)^2}{2G^2})}$$\n",
    "\n",
    "Prawdopodobieństwo osiągnięcia wyniku $x_1$ też jest gaussowskie z parametrami $\\mu_1 \\to n \\mu_1$, $\\sigma_1 \\to \\sqrt{n} \\sigma_1$. Po uśrednieniu odchylenie standardowe średniej arytmetycznej leci jak $\\sigma_1 / \\sqrt{n}$, więc jesteśmy coraz lepiej doinformowani co do średniej."
   ]
  },
  {
   "cell_type": "markdown",
   "metadata": {},
   "source": []
  }
 ],
 "metadata": {
  "kernelspec": {
   "display_name": "Python [Root]",
   "language": "python",
   "name": "Python [Root]"
  },
  "language_info": {
   "codemirror_mode": {
    "name": "ipython",
    "version": 3
   },
   "file_extension": ".py",
   "mimetype": "text/x-python",
   "name": "python",
   "nbconvert_exporter": "python",
   "pygments_lexer": "ipython3",
   "version": "3.5.2"
  }
 },
 "nbformat": 4,
 "nbformat_minor": 0
}
