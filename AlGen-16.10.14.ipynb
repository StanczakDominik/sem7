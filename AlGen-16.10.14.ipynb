{
 "cells": [
  {
   "cell_type": "markdown",
   "metadata": {},
   "source": [
    "Technicznie rzecz biorąc: reaktor atomowy: piec, silnik! Przy spalaniu $dE \\sim 4 eV$.\n",
    "\n",
    "Reaktor jądrowy: nuclear, $dE \\sim 200 MeV$.\n",
    "\n",
    "Zasięg oddziaływań jądrowych: rzędu $10^{-15}m$.\n",
    "\n",
    "Siły jądrowe zależą od wzajemnej orientacji wektorów spinów nukleonów. Nie są centralne!\n",
    "\n",
    "Model kroplowy: klasyczny, ale wstawili tam tyle efektów a la rachunek zaburzeń że wyszło całkiem dobre przybliżenie energii faktycznego układu.\n",
    "\n",
    "Model powłokowy bezpośrednio tłumaczy liczby magiczne\n",
    "\n",
    "Spalacja - proces kruszenia, rozbicia jądra\n",
    "* proton uderza w jądro i rozbija je\n",
    "* jąderko rozpada się na protony i neutrony\n",
    "\n",
    "European Spalation Source"
   ]
  }
 ],
 "metadata": {
  "anaconda-cloud": {},
  "kernelspec": {
   "display_name": "Python [Root]",
   "language": "python",
   "name": "Python [Root]"
  },
  "language_info": {
   "codemirror_mode": {
    "name": "ipython",
    "version": 3
   },
   "file_extension": ".py",
   "mimetype": "text/x-python",
   "name": "python",
   "nbconvert_exporter": "python",
   "pygments_lexer": "ipython3",
   "version": "3.5.2"
  }
 },
 "nbformat": 4,
 "nbformat_minor": 0
}
