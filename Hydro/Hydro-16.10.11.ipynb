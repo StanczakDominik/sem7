{
 "cells": [
  {
   "cell_type": "markdown",
   "metadata": {},
   "source": [
    "# Podstawy Hydrodynamiki 2 11.10.16"
   ]
  },
  {
   "cell_type": "markdown",
   "metadata": {},
   "source": [
    "Równanie różniczkowe na smugi: to samo co na trajektorie!"
   ]
  },
  {
   "cell_type": "code",
   "execution_count": 1,
   "metadata": {
    "collapsed": false
   },
   "outputs": [
    {
     "ename": "NameError",
     "evalue": "name 'A' is not defined",
     "output_type": "error",
     "traceback": [
      "\u001b[1;31m---------------------------------------------------------------------------\u001b[0m",
      "\u001b[1;31mNameError\u001b[0m                                 Traceback (most recent call last)",
      "\u001b[1;32m<ipython-input-1-517d1e56a2a3>\u001b[0m in \u001b[0;36m<module>\u001b[1;34m()\u001b[0m\n\u001b[0;32m      5\u001b[0m \u001b[0ma_x\u001b[0m \u001b[1;33m=\u001b[0m \u001b[1;36m0\u001b[0m\u001b[1;33m\u001b[0m\u001b[0m\n\u001b[0;32m      6\u001b[0m \u001b[0ma_y\u001b[0m \u001b[1;33m=\u001b[0m \u001b[1;36m0\u001b[0m\u001b[1;33m\u001b[0m\u001b[0m\n\u001b[1;32m----> 7\u001b[1;33m \u001b[0mx\u001b[0m \u001b[1;33m=\u001b[0m \u001b[0mA\u001b[0m\u001b[1;33m*\u001b[0m\u001b[0mt\u001b[0m\u001b[1;33m**\u001b[0m\u001b[1;36m2\u001b[0m \u001b[1;33m+\u001b[0m \u001b[0mt0\u001b[0m \u001b[1;33m+\u001b[0m \u001b[0ma_x\u001b[0m\u001b[1;33m\u001b[0m\u001b[0m\n\u001b[0m\u001b[0;32m      8\u001b[0m \u001b[0my\u001b[0m \u001b[1;33m=\u001b[0m \u001b[0mB\u001b[0m\u001b[1;33m*\u001b[0m\u001b[0mnp\u001b[0m\u001b[1;33m.\u001b[0m\u001b[0mln\u001b[0m\u001b[1;33m(\u001b[0m\u001b[0mt\u001b[0m\u001b[1;33m)\u001b[0m \u001b[1;33m+\u001b[0m \u001b[0ma_y\u001b[0m\u001b[1;33m\u001b[0m\u001b[0m\n\u001b[0;32m      9\u001b[0m \u001b[1;33m\u001b[0m\u001b[0m\n",
      "\u001b[1;31mNameError\u001b[0m: name 'A' is not defined"
     ]
    }
   ],
   "source": [
    "import numpy as np\n",
    "import matplotlib.pyplot as plt\n",
    "%matplotlib inline\n",
    "\n",
    "a_x = 0\n",
    "a_y = 0\n",
    "x = A*t**2 + t0 + a_x\n",
    "y = B*np.ln(t) + a_y\n",
    "\n",
    "t = np.sqrt((x - t0 - a)/A)"
   ]
  },
  {
   "cell_type": "markdown",
   "metadata": {},
   "source": [
    "### Pochodna substancjalna\n",
    "W opisie Eulera pola (gęstości, prędkości...) mają **cztery** niezależne argumenty $f_E(x, t)$. Pochodna: $\\partial_t f_E = (\\frac{\\partial f}{\\partial t} )_x.\n",
    "\n",
    "W opisie Lagrange'a mamy: $x = x(a,t)$, czyli: $f_L(a, t) = f_E(x(a,t),t)$. $\\partial_t f_E = (\\frac{\\partial f}{\\partial t})_a = \\frac{\\partial f_E}{\\partial t} + \\frac{\\partial x(a, t)}{\\partial t} \\cdot \\nabla_x f_E = \\frac{\\partial f}{\\partial t} + u \\cdot \\nabla_x f_E$"
   ]
  },
  {
   "cell_type": "markdown",
   "metadata": {},
   "source": [
    "$$\\frac{D f}{D t} = \\frac{\\partial f}{\\partial t} + u \\cdot \\nabla f$$\n",
    "$$\\frac{D F}{D t} = \\frac{\\partial F}{\\partial t} + u \\cdot \\nabla F$$\n",
    "\n",
    "gdzie $F = \\vec{F}$"
   ]
  },
  {
   "cell_type": "markdown",
   "metadata": {},
   "source": [
    "Mamy więc spośród praw zachowania np. równanie ciągłości:\n",
    "\n",
    "$$ \\partial_t \\rho + \\nabla \\cdot (\\rho u) = 0 \\iff D_t \\rho + \\rho \\nabla \\cdot u = 0$$\n",
    "\n",
    "gdzie operator\n",
    "\n",
    "$$u \\cdot \\nabla = u_x \\partial_x + u_y \\partial_y + u_z \\partial_z$$\n",
    "\n",
    "(będzie miał inną postać w zmiennych niekartezjańskich!)\n",
    "\n",
    "### Przepływ nieściśliwy\n",
    "\n",
    "Przepływ $u(x,t)$ jest **nieściśliwy** , jeśli gęstość elementów materialnych cieczy nie zmienia się w czasie. To oznacza że\n",
    "\n",
    "$$D_t \\rho  = 0$$\n",
    "\n",
    "To nie oznacza że\n",
    "1. gęstość płynu musi być wszędzie jednakowa\n",
    "2. $\\partial_t \\rho = 0$"
   ]
  },
  {
   "cell_type": "markdown",
   "metadata": {},
   "source": [
    " Zatem z równania ciągłości wynika że przy braku źródeł masy:\n",
    "(nieściśliwość $\\iff$ ($\\nabla \\cdot u = 0$) - pole $u$ jest solenoidalne (to jest prawda w obszarach jednospójnych - np. przestrzeń z kulą jest jednospójna, ale przestrzeń z nieskończonym cylindrem już nie - przykład gumki wokół cylindra, nie można jej ściągnąć do punktu.\n",
    "\n",
    "### Rozkład pola prędkości na część nieściśliwą i bezwirową\n",
    "\n",
    "Wirowość (vorticity) to $\\vec{\\omega} = \\nabla \\times \\vec{u}$\n",
    "\n",
    "Zachodzi, że\n",
    "1.  $\\nabla \\cdot (\\omega \\times A) = 0$\n",
    "2. $\\nabla \\times (\\nabla f) = 0$\n",
    "\n",
    "Każde pole prędkości możemy rozłożyć na część bezwirową i nieściśliwą. W obszarze jednospójnym taki rozkład jest jednoznaczny:\n",
    "\n",
    "$$u = \\nabla \\phi + \\nabla \\times A$$\n",
    "\n",
    "Wyznaczamy $\\phi$: bierzemy dywergencję powyższego $$\\nabla \\cdot u = \\Delta \\phi$$ rotacja A znika przez dywergencję rotacji.\n",
    "\n",
    "$$\\vec{n} \\cdot \\nabla \\phi |_{\\partial V} = \\vec{u} \\cdot \\vec{n} |_{\\partial V}$$\n",
    "\n",
    "W szczególności w płynie nieściśliwym gdy ścianki są w spoczynku:\n",
    "$$\\Delta \\phi = 0$$\n",
    "$$n \\cdot {\\nabla \\phi} = 0 $$\n",
    "\n",
    "W obszarze jednospójnym jednoznaczne zagadnienie (Poissona, z warunkami brzegowymi WB von Neumanna).\n",
    "\n",
    "Łatwo pokazać że rozwiązanie stałe spełnia warunki, a że to jest jednoznaczne to jest to jedyne rozwiązanie.\n",
    "\n",
    "Podobnie też z równania poprzedniego można wyznaczyć A poprzez rotację:\n",
    "\n",
    "$$\\nabla \\times u = \\nabla \\times A$$\n",
    "$$\\nabla \\times \\nabla \\times A = \\nabla \\times u$$\n",
    "$$\\nabla^2 A = \\nabla (\\nabla \\cdot A) - \\nabla \\times \\nabla \\times A)$$\n",
    "$$\\nabla(\\nabla \\cdot A) - \\nabla^2 A = \\nabla \\times u$$\n",
    "\n",
    "Cechowanie Coulomba: przyjmujemy $\\nabla \\cdot A = 0$, $\\nabla^2 \\cdot A = 0$\n",
    "$$\\nabla^2 A = - \\nabla \\times u = - \\omega$$\n",
    "W kartezjanskich: $\\hat{e}_z \\dot \\nabla \\times A = 0$\n"
   ]
  },
  {
   "cell_type": "markdown",
   "metadata": {},
   "source": [
    "$$A_n|_{z = a, b} = 0 ( A_x|_{z = a, b}, A_y|_{z=a,b} = 0)$$\n",
    "$$\\nabla \\cdot A = 0 \\implies  \\partial_z A_z |_{z=a,b} = 0$$"
   ]
  },
  {
   "cell_type": "markdown",
   "metadata": {},
   "source": [
    "Ogólnie: $U(x, t) = [u_1(x,y,z,t), u_2(x,y,z,t), u_3(x,y,z,t)]$. Mówimy że przepływ jest dwuwymiarowy jeżeli $u_i$ nie zależą od jednej ze współrzędnych. Np. $\\partial_z = 0$."
   ]
  },
  {
   "cell_type": "markdown",
   "metadata": {},
   "source": [
    "Często rozumie się pod tym terminem dodatkowo, że $u_z = 0$. *Na przykład nie w plazmach.*"
   ]
  },
  {
   "cell_type": "markdown",
   "metadata": {},
   "source": [
    "# Funkcja prądu\n",
    "W 2D przepływie nieściśliwym potencjał wektorowy $\\vec{A}$ można wybrać tak, by był jedynie $\\vec{A} = \\hat{e}_z A_z$. Tę składową nazywamy **funkcją prądu** (w przepływie **nieściśliwym, dwuwymiarowym** - taki przepływ jest przez nią jednoznacznie zdefiniowany)."
   ]
  },
  {
   "cell_type": "markdown",
   "metadata": {},
   "source": [
    "$$\\Psi = \\text{funkcja prądu}$$\n",
    "$$u = \\nabla \\times A, A = [0, 0, \\Psi(x,y,t)]\\text{ dla przypadku } \\partial_z = 0$$.\n",
    "$$u_x = \\partial_y \\psi, u_y = -\\partial_x \\psi$$"
   ]
  },
  {
   "cell_type": "markdown",
   "metadata": {},
   "source": [
    "$$ \\nabla \\cdot u = 0 \\iff \\nabla \\cdot u = \\partial_{xy} \\psi - \\partial_{yx} \\psi = 0$$"
   ]
  },
  {
   "cell_type": "markdown",
   "metadata": {},
   "source": [
    "Podobnie wirowość:\n",
    "$$\\omega = \\nabla \\times u = [0, 0, \\omega(x, y, t)]$$\n",
    "$$\\omega = -\\nabla^2 \\psi$$\n",
    "Mamy tożsamościowo:\n",
    "$$u \\cdot \\nabla \\psi = \\partial_y \\psi \\partial_x \\psi - \\partial_x \\psi \\partial_y \\psi = 0$$\n",
    "\n",
    "Czyli prędkość jest równoległa do poziomic $\\psi$, konturów stałych wartości funkcji prądu. **Linie prądu to poziomice $\\psi$ ** - pole $\\vec{u}$ jest styczne do powierzchni $\\psi = const$."
   ]
  },
  {
   "cell_type": "markdown",
   "metadata": {},
   "source": [
    "$$\\nabla \\cdot (\\vec{u} - \\nabla \\phi) = 0 \\implies \\vec{u} = \\nabla \\phi + \\nabla \\times \\vec{A}$$"
   ]
  },
  {
   "cell_type": "markdown",
   "metadata": {},
   "source": [
    "Nieściśliwość w przepływach 2D zadaje związek pomiędzy $u_x, u_y$ poprzez $\\psi$."
   ]
  },
  {
   "cell_type": "markdown",
   "metadata": {},
   "source": [
    "### Przepływ osiowosymetryczny\n",
    "Przepływ jest **osiowosymetryczny** (*axisymmetric*) wokół osi $z$, gdy składowe prędkości nie zależą od kąta azymutalnego $\\varphi$ (we współrzędnych biegunowych.\n",
    "\n",
    "Jeśli dodatkowo $u_\\varphi = 0$ *(no swirl)*, to mamy przepływ 2D. W takim przepływie $A, \\omega$ mają tylko składowe w kierunku $\\hat{e}_\\varphi$.\n",
    "\n",
    "$$ \\nabla \\cdot u = 0 \\implies A = \\psi \\hat{e}_\\vartheta$$\n",
    "Ale można też:\n",
    "$$(1/r) \\partial_r (r u_r) + \\partial_z u_z = 0$$\n",
    "\n",
    "Stąd\n",
    "$$u_r = (1/r) \\partial_z \\psi$$\n",
    "$$u_z = -(1/r) \\partial_r \\psi_z$$\n",
    "Tyle że to już nie jest funkcja odpowiadająca potencjałowi wektorowemu!"
   ]
  },
  {
   "cell_type": "markdown",
   "metadata": {},
   "source": [
    "$$u_x = \\partial_y \\psi$$\n",
    "$$u_y = -\\partial_x \\psi$$\n",
    "$$\\nabla \\psi = [\\partial_x \\psi, \\partial_y \\psi, 0]$$\n",
    "$$||\\nabla\\psi||^2 = (\\partial_x \\psi)^2 +(\\partial_y \\psi)^2 = u^2$$\n",
    "Więc tam gdzie gradient funkcji prądu jest duży, tam jest duża prędkość.\n",
    "\n",
    "Różnica wartości funkcji pradu między dwoma punktami w przestrzeni mówi, ile objętości przepływa między tymi dwoma punktami. Właśnie to dyskwalifikuje drugą funkcję prądu z poprzedniej komórki jako potencjał wektorowy."
   ]
  },
  {
   "cell_type": "markdown",
   "metadata": {},
   "source": [
    "** Smugi zwą się z angielska Streaklines! https://en.wikipedia.org/wiki/Streamlines,_streaklines,_and_pathlines **"
   ]
  },
  {
   "cell_type": "markdown",
   "metadata": {},
   "source": [
    "### Tensor naprężeń\n",
    "do sił krótkozasięgowych, np. powierzchnia z powierzchnią. naprężenia: tylko przy gradiencie prędkości.\n",
    "\n",
    "Elementy ośrodka ciągłego oddziałują między sobą siłami:\n",
    "1. długozasięgowe (np. grawitacja, siła Lorentza, siła Coriolisa). Są one proprcjonalne do objętości płynu: $\\vec{F}(\\vec{x}, t) \\delta V$ ($F$ jest na jednostkę odległości).\n",
    "2. krótkozasięgowe - zasięg kilku średnic atomu. Są proporcjonalne do pola powierzchni elementu płynu. $\\vec{F}(\\vec{x}, t, \\vec{n})\\delta A$, $F$ - siła na jednostkę powierzchni.\n",
    "\n",
    "Powierzchniowa siła F zależy od n, czyli wersora normalnego do powierzchni i w danym miejscu siły między elementami\n",
    "```\n",
    "1 | 2\n",
    "```\n",
    "Mogą być inne niż\n",
    "```\n",
    "3\n",
    "_\n",
    "4\n",
    "```"
   ]
  },
  {
   "cell_type": "markdown",
   "metadata": {},
   "source": [
    "Z trzeciej zasady dynamiki $\\vec{F}(\\vec{x}, t, -\\vec{n}) = -\\vec{F}(\\vec{x}, t, \\vec{n})$\n",
    "\n",
    "**TODO:: rysunek: czworościan rozpięty na osiach x1, x2, x3, siły F(-e1), -e2, -e3, i jedna siła normalna F(n)**\n",
    "\n",
    "Objętość; $\\delta V$. Pole powierzchni: $(\\delta V)^(2/3)$. Przy $\\delta V \\to 0$ $(\\delta V)^(2/3)$ dąży do zera dużo wolniej. Czyli siły powierzchniowe muszą się równoważyć niezależnie od objętościowych.\n",
    "\n",
    "$$F(n) \\delta A + F(-e_1) \\delta A_1 + F(-e_2) \\delta A_2 + F(-e_3) \\delta A_3 = 0$$\n",
    "inaczej bowiem przyspieszenie byłoby nieskończone w granicy objętości dążącej do zera.\n",
    "\n",
    "Zachodzi $\\delta A_i = n_i \\delta A$ w czworościanie (geometrycznie, cosinusy kątów)."
   ]
  },
  {
   "cell_type": "markdown",
   "metadata": {},
   "source": [
    "Zatem $F_i(n) \\delta A = \\sigma_{ij} n_j \\delta A$ , można skrócić,\n",
    "$F_i(n) = \\sigma_{ij} n_j. Efekt działania siły zależy od orientacji powierzchni infinitezymalnej.\n",
    "\n",
    "$\\sigma_{ij}$ - i-ta składowa siły działającej na element powierzchni o wersorze normalnym $\\hat{e}_j$.\n",
    "\n",
    "Zachodzi, że $\\sigma = \\sigma^T$ - więc całkowity moment pędu na element jest 0."
   ]
  },
  {
   "cell_type": "markdown",
   "metadata": {},
   "source": [
    "Jeżeli w układzie nie występują pary sił, które zmieniałyby moment pędu elementów płynu, ale nie pęd, to równanie bilansu pędu ma postać\n",
    "\n",
    "$$D_t \\int_V \\rho r \\times u  dV = \\int_{\\partial V} r \\times \\sigma\\cdot \\hat{n} dA + \\int_V r \\times \\rho F dV$$\n",
    "Po lewej: całkowita zmiana momentu pędu w objętości materialnej $V$ (po elementach płynu, mogą być w ruchu). Dwa czynniki po prawej: moment sił powierzchniowych i objętościowych."
   ]
  },
  {
   "cell_type": "markdown",
   "metadata": {},
   "source": [
    "Wchodząc pod całkę z operatorem $D_t$:\n",
    "\n",
    "$\\int \\rho D_t(r \\times u) dV + \\int r \\times u D_t \\Big(\\rho dV\\Big)$\n",
    "\n",
    "$D_t\\Big(\\rho dV \\Big)$ będzie się równać zero.\n",
    "\n",
    "Człon sił powierzchniowych, na współrzędnych:\n",
    "\n",
    "$$\\Big[\\int_{\\partial V} r \\times \\sigma \\cdot n dA \\Big]_i = \\int_{\\partial V}\\epsilon_{ijk} x_j \\sigma_{kp} n_p dA$$"
   ]
  },
  {
   "cell_type": "markdown",
   "metadata": {},
   "source": [
    "Z twierdzenia Gaussa:\n",
    "$$ = \\int_V \\partial_{x_p} \\epsilon_{ijk} x_j \\sigma_{kp} dV =\n",
    "\\int_V \\epsilon_{ijk} \\frac{\\partial x_j}{\\partial x_p} \\sigma_{kp} dV +\n",
    "\\int_V \\epsilon_{ijk} \\frac{\\sigma_{kp}}{\\partial x_p} x_j dV =\n",
    "\\int_V (r \\times Div \\sigma)_i dV +\n",
    "\\int_V  \\epsilon_{ijk} \\sigma_{kj} dV = \n",
    "\\int_V (r \\times Div \\sigma)_i dV \n",
    "-2 \\int_V  t_i dV$$\n",
    "\n",
    "gdzie $t_i = \\frac{1}{2} \\epsilon_{ijk} \\sigma_{kj}^{\\text{część antysymetryczna}}$."
   ]
  },
  {
   "cell_type": "markdown",
   "metadata": {},
   "source": [
    "$$S_{ij} A_{ji} = S_{ji} A_{ij} = -S_{ij} A_{ji} = 0 $$"
   ]
  },
  {
   "cell_type": "markdown",
   "metadata": {},
   "source": [
    "$\\rho D_t u = Div \\sigma + \\rho F$ - dowód za chwilę.\n",
    "\n",
    "$$\\int \\rho D_t (r \\times u) dV = \\int_{\\partial V} r \\times \\sigma \\cdot n dA + \\int_V r \\times \\rho F dV = \\int_V r \\times Div \\sigma dV - 2 \\int_V t dV$$\n",
    "\n",
    "Zatem $\\int t dV = 0$ dla dowolnej objętości, toteż tensor jest symetryczny"
   ]
  }
 ],
 "metadata": {
  "anaconda-cloud": {},
  "kernelspec": {
   "display_name": "Python [conda root]",
   "language": "python",
   "name": "conda-root-py"
  },
  "language_info": {
   "codemirror_mode": {
    "name": "ipython",
    "version": 3
   },
   "file_extension": ".py",
   "mimetype": "text/x-python",
   "name": "python",
   "nbconvert_exporter": "python",
   "pygments_lexer": "ipython3",
   "version": "3.5.2"
  }
 },
 "nbformat": 4,
 "nbformat_minor": 0
}
