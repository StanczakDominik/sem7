{
 "cells": [
  {
   "cell_type": "markdown",
   "metadata": {},
   "source": [
    "# Zoptymalizowana symulacja plazmowa Particle in Cell w Pythonie"
   ]
  },
  {
   "cell_type": "markdown",
   "metadata": {},
   "source": [
    "## Dominik Stańczak, 2016"
   ]
  },
  {
   "cell_type": "markdown",
   "metadata": {},
   "source": [
    "# Plazma - *po co* ją symulować?\n",
    "* *mission-driven* w sensie zastosowań do fuzji termojądrowej\n",
    "    * ![https://en.wikipedia.org/wiki/File:Fusion_rxnrate.svg](img/fusion_temperature_plot.png)\n",
    "    * Potrzebujemy ogromnych temperatur, by ją osiągnąć - osiągalne jedynie w plazmach\n",
    "    * Również inne zastosowania - akceleratory (CERNowski projekt *AWAKE*), silniki kosmiczne (Halla), obróbka procesorów, medycyna...\n",
    "\n",
    "* Wyjątkowo złożony układ: nie znamy analitycznych rozwiązań na praktycznie żaden z ciekawszych przypadków\n",
    "* Główny koncepcyjny problem: liczba dalekozasięgowych oddziaływań w układzie rośnie jak $n^2$ w liczbie cząstek"
   ]
  },
  {
   "cell_type": "markdown",
   "metadata": {},
   "source": [
    "# Plazma - *jak* ją symulować?\n",
    "\n",
    "* Równanie Vlasova - podstawowy, najściślejszy aparat (tu: w uproszczonej wersji)\n",
    "\n",
    "$$ \\frac{\\partial f_\\alpha}{\\partial t} + \\vec{v}_\\alpha \\cdot \\frac{\\partial f_\\alpha}{\\partial \\vec{x}} + \\frac{q_\\alpha \\vec{E}}{m_\\alpha} \\cdot \\frac{\\partial f_\\alpha}{\\partial \\vec{v}} = 0$$\n",
    "\n",
    "W jednej chwili czasu pracujemy na 6-wymiarowej siatce. Więc problem skaluje się jak $N_x^3N_v^3$. Siatka musi mieć dobrą rozdzielczość i zasięg (zjawisko wysokoonergetycznego ogona elektronowego).\n",
    "\n",
    "> Superkomputer Titan w Oak Ridge National Laboratory, USA ma 27 petaflopów wydajności obliczeniowej i zużywa do 9 megawatów mocy. Bez maszyny na skalę Titana sensownie nie da się czegoś takiego zrobić.\n",
    "\n",
    "* Są przybliżenia pomijające część efektów, np. magnetohydrodynamika\n",
    "    * nie działa daleko od równowagowej dystrybucji\n",
    "    * wymaga, aby plazma była zdominowana przez kolizje\n",
    "    * zupełnie się nie nadaje do symulacji plazmy termojądrowej\n",
    "* Oraz są modele opierające się na fundamentalnej fizyce ruchu cząstek według równań Newtona, jak na przykład..."
   ]
  },
  {
   "cell_type": "markdown",
   "metadata": {},
   "source": [
    "# Modele Particle in Cell"
   ]
  },
  {
   "cell_type": "markdown",
   "metadata": {},
   "source": [
    "## Główny algorytm\n",
    "Symulacje cząsteczkowe są stosunkowo łatwe ze względu na ich **liniowe skalowanie w liczbie cząstek**. Problematycznym krokiem jest jedynie obliczanie oddziaływań - w przypadku ogólnym, gdy każda cząstka może oddziaływać na każdą, liczba oddziaływań skaluje się jak $n^2$.\n",
    "\n",
    "Jeśli więc (upraszczając) nasz zasób pamięć RAM wystarczy na milion cząstek, to na dwa miliony będziemy potrzebować cztery razy tyle RAMu. Milion zaś to niewiele!\n",
    "\n",
    "### Czy musimy obliczać siły bezpośrednio?\n",
    "\n",
    "Zdefiniujmy sobie dyskretną siatkę o liczbie komórek $n_g << n$. Każda z cząstek wpada w którąś komórkę.\n",
    "\n",
    "Policzmy, ile jest cząstek każdego rodzaju w każdej komórce. Sumując ładunki w komórce, dostajemy gęstość ładunku. Złożoność $O(n)$ - wykonujemy tą operację raz dla każdej cząstki. To tzw. **charge deposition**. *W rzeczywistości - interpolacja do krawędzi siatki!*\n",
    "\n",
    "Mamy więc na $n_g$ komórek siatki zdefiniowaną gęstość ładunku. Możemy teraz wykorzystać równanie Poissona:\n",
    "\n",
    "$$\\frac{\\rho}{\\varepsilon_0} = \\nabla E = -\\nabla^2 \\varphi$$\n",
    "\n",
    "Ze znanym $\\rho$ można wykorzystać metody numeryczne jak\n",
    "* Jacobiego\n",
    "* Gaussa-Seidela\n",
    "* Successive Over-relaxation\n",
    "* Conjugate Gradients\n",
    "* **metody spektralne**, wykorzystujące transformaty Fouriera *(algorytm FFT w przypadkach dyskretnych!)*\n",
    "\n",
    "aby obliczyć $E$ - ze złożonością zazwyczaj faktycznie kwadratową *(dowód trywialny)*, ale w $n_g$ - zaś jeśli $n_g << n$, to $n_g^2 << n^2$! **Koszt obliczenia rzędu $n_g^2$ nie jest taki straszny!**\n",
    "\n",
    "### Mamy więc obliczone pole elektryczne - ale na siatce. Co z tego?\n",
    "\n",
    "Tyle, iż teraz możemy zinterpolować wartości pola z siatki do cząstek, raz na cząstkę - $O(n)$, wciąż mniej niż kwadratowo!\n",
    "\n",
    "### Mamy więc siły działające na cząstki\n",
    "\n",
    "Teraz zaś już trywialną kwestią jest użyć ich oraz znanych uprzednio pędów, by zaktualizować pędy i położenia cząstek do kolejnej iteracji. (tzw. **particle push**)\n",
    "\n",
    "Przesunięte na nowo cząstki można zaś wykorzystać do znalezienia nowego rozkładu ładunku... I wracamy do punktu wyjścia!\n",
    "\n",
    "# Prawdopodobnie najważniejszy fakt czyniący symulacje PIC sensownymi:\n",
    "\n",
    "W równaniach ruchu oddziaływania elektryczne skalują się jak $\\frac{q}{m} = \\frac{Nq}{Nm}$. Jedna cząstka obliczeniowa może reprezentować wiele cząstek rzeczywistych! To pozwala nam symulować plazmę makroskalową!"
   ]
  },
  {
   "cell_type": "markdown",
   "metadata": {},
   "source": [
    "# Stan obecny prac\n",
    "\n",
    "* Korzystam jak dotąd głównie z książki Birdsalla & Langdona z 1975, *Plasma Physics via Computer Simulation* oraz materiałów (m. in. wykładów) dostępnych w Internecie\n",
    "* Docelowo ma być elektromagnetyczna i symulować oddziaływanie plazmy z laserem, więc przypadek relatywistyczny \n",
    "* Model na tym etapie jest elektrostatyczny, okresowy (nieskończona plazma), nierelatywistyczny (pracuję na prędkościach i przyjmuję $\\gamma = 1$)\n",
    "\n",
    "# Specyfika symulacji\n",
    "* Jeden wymiar, ale jest napisana tak, by łatwo było ją rozbudować na więcej\n",
    "* *field solver* jest obecnie spektralny, wykorzystuje dane z całej siatki (globalnie). *To się kłóci z relatywistyką!*\n",
    "* *Particle pusher* to tzw. algorytm Borysa, podobny do algorytmu Verleta - w przypadku jednowymiarowym elektrostatycznym redukuje się do klasycznego *leapfroga*.\n",
    "* Obecnie: okresowe warunki brzegowe, cząstki wychodzące z prawej wchodzą od lewej.\n",
    "\n",
    "# Problemy, które do tej pory napotkałem\n",
    "* Zaczynanie kodu od początku zamiast rozsądnej przeróbki tego, co mam\n",
    "* Mnóstwo błędów wynikających z **nieprzemyślanego dostępu do zmiennych**\n",
    "* Obliczanie pola oraz energii - **skalowanie**, problem utworzenia wektora $k$\n",
    "\n",
    "# Co pozostało do zrobienia:\n",
    "\n",
    "* dobudować pole magnetyczne w pusherze oraz field solverze\n",
    "* przejść na solver i pusher relatywistyczny\n",
    "    * lokalny! Wrócimy do tego wątku później...\n",
    "* Dodać laser (jako warunek brzegowy zależny od czasu na pola $E$, $B$)\n",
    "* Testy prędkości i optymalizacja - próby wyciągnięcia maksymalnej możliwej prędkości"
   ]
  },
  {
   "cell_type": "markdown",
   "metadata": {},
   "source": [
    "# Optymalizacja kodu\n",
    "### Numpy\n",
    "* Python jest uznawany za \"wolny\" - ale C i Fortran nie są.\n",
    "* Python jest wybitnym językiem \"klejącym\". Odwołując się z poziomu Pythona do gotowych implementacji operacji wektorowych w innych architekturach, możemy osiągnąć szybkości praktycznie takie same jak w językach niskopoziomowych\n",
    "* Standardową biblioteką całego *scientific computing* w Pythonie jest Numpy, implementujący operacje wektorowe"
   ]
  },
  {
   "cell_type": "code",
   "execution_count": 25,
   "metadata": {
    "collapsed": false
   },
   "outputs": [
    {
     "data": {
      "text/plain": [
       "array([[-0.        , -0.08215605,  0.30792906,  0.4512894 ],\n",
       "       [ 0.08215605, -0.        ,  0.39008511,  0.53344545],\n",
       "       [-0.30792906, -0.39008511, -0.        ,  0.14336034],\n",
       "       [-0.4512894 , -0.53344545, -0.14336034, -0.        ]])"
      ]
     },
     "execution_count": 25,
     "metadata": {},
     "output_type": "execute_result"
    }
   ],
   "source": [
    "import numpy as np\n",
    "\n",
    "N = 1000\n",
    "x = np.random.random(N)\n",
    "\n",
    "def odleglosci_sekwencyjnie(x):\n",
    "    r = np.zeros((N, N))\n",
    "    for i in range(N):\n",
    "        for j in range(i, N):\n",
    "            d = x[i] - x[j]\n",
    "            r[i, j] = d\n",
    "            r[j, i] = -d\n",
    "    return r\n",
    "\n",
    "odleglosci_sekwencyjnie(x)[:4,:4]"
   ]
  },
  {
   "cell_type": "code",
   "execution_count": 26,
   "metadata": {
    "collapsed": false
   },
   "outputs": [
    {
     "data": {
      "text/plain": [
       "array([[ 0.        , -0.08215605,  0.30792906,  0.4512894 ],\n",
       "       [ 0.08215605,  0.        ,  0.39008511,  0.53344545],\n",
       "       [-0.30792906, -0.39008511,  0.        ,  0.14336034],\n",
       "       [-0.4512894 , -0.53344545, -0.14336034,  0.        ]])"
      ]
     },
     "execution_count": 26,
     "metadata": {},
     "output_type": "execute_result"
    }
   ],
   "source": [
    "def odleglosci_numpy(x):\n",
    "    return x.reshape(N, 1) - x.reshape(1, N)\n",
    "\n",
    "odleglosci_numpy(x)[:4,:4]"
   ]
  },
  {
   "cell_type": "code",
   "execution_count": 29,
   "metadata": {
    "collapsed": false
   },
   "outputs": [
    {
     "name": "stdout",
     "output_type": "stream",
     "text": [
      "1 loop, best of 3: 335 ms per loop\n"
     ]
    }
   ],
   "source": [
    "%timeit odleglosci_sekwencyjnie(x)"
   ]
  },
  {
   "cell_type": "code",
   "execution_count": 30,
   "metadata": {
    "collapsed": false
   },
   "outputs": [
    {
     "name": "stdout",
     "output_type": "stream",
     "text": [
      "100 loops, best of 3: 3.59 ms per loop\n"
     ]
    }
   ],
   "source": [
    "%timeit odleglosci_numpy(x)"
   ]
  },
  {
   "cell_type": "markdown",
   "metadata": {},
   "source": [
    "### Numba\n",
    "\n",
    "Kompilacja *just-in-time* sekwencyjnego kodu Pythona do języków niskopoziomowych i odwoływanie się do takiej, zapisanej implementacji"
   ]
  },
  {
   "cell_type": "code",
   "execution_count": 34,
   "metadata": {
    "collapsed": false
   },
   "outputs": [
    {
     "data": {
      "text/plain": [
       "array([[-0.        , -0.08215605,  0.30792906,  0.4512894 ],\n",
       "       [ 0.08215605, -0.        ,  0.39008511,  0.53344545],\n",
       "       [-0.30792906, -0.39008511, -0.        ,  0.14336034],\n",
       "       [-0.4512894 , -0.53344545, -0.14336034, -0.        ]])"
      ]
     },
     "execution_count": 34,
     "metadata": {},
     "output_type": "execute_result"
    }
   ],
   "source": [
    "from numba import njit\n",
    "\n",
    "@njit() # <- tak, to jest jedyna różnica\n",
    "def odleglosci_sekwencyjnie_numba(x):\n",
    "    r = np.zeros((N, N))\n",
    "    for i in range(N):\n",
    "        for j in range(i, N):\n",
    "            d = x[i] - x[j]\n",
    "            r[i, j] = d\n",
    "            r[j, i] = -d\n",
    "    return r\n",
    "\n",
    "odleglosci_sekwencyjnie_numba(x)[:4,:4]"
   ]
  },
  {
   "cell_type": "code",
   "execution_count": 35,
   "metadata": {
    "collapsed": false
   },
   "outputs": [
    {
     "name": "stdout",
     "output_type": "stream",
     "text": [
      "100 loops, best of 3: 7.01 ms per loop\n"
     ]
    }
   ],
   "source": [
    "%timeit odleglosci_sekwencyjnie_numba(x)"
   ]
  },
  {
   "cell_type": "markdown",
   "metadata": {},
   "source": [
    "### Dygresja teoretyczna - paralelizm w obliczeniach\n",
    "* Problemy trywialnie paralelizowalne\n",
    "* Złożone podejścia do paralelizmu\n",
    "* Karty graficzne!\n",
    "* Kopiowanie pamięci"
   ]
  },
  {
   "cell_type": "markdown",
   "metadata": {},
   "source": [
    "## PyCUDA\n",
    "\n",
    "PIC jest dlatego przyszłościowy, że jest *trywialnie paralelizowalny* - każda z cząstek jest niezależna od siebie, jedynie od siatki i pola.\n",
    "\n",
    "Istnieją implementacje"
   ]
  },
  {
   "cell_type": "code",
   "execution_count": null,
   "metadata": {
    "collapsed": true
   },
   "outputs": [],
   "source": []
  }
 ],
 "metadata": {
  "anaconda-cloud": {},
  "kernelspec": {
   "display_name": "Python [conda root]",
   "language": "python",
   "name": "conda-root-py"
  },
  "language_info": {
   "codemirror_mode": {
    "name": "ipython",
    "version": 3
   },
   "file_extension": ".py",
   "mimetype": "text/x-python",
   "name": "python",
   "nbconvert_exporter": "python",
   "pygments_lexer": "ipython3",
   "version": "3.5.2"
  }
 },
 "nbformat": 4,
 "nbformat_minor": 1
}
