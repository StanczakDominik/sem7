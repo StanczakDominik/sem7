{
 "cells": [
  {
   "cell_type": "markdown",
   "metadata": {},
   "source": [
    "# Algorytmy Genetyczne\n",
    "## 16.10.03\n",
    "\n",
    "> Stanford Duck: nieco powoli ale bardzo dużo się tymi łapkami przebiera\n",
    "\n",
    "własny wybór tematu na projekt\n",
    "1. zdefiniować zagadnienie do którego można użyć narzędzi z algenów\n",
    "2. dopasować narzędzie\n",
    "3. do końca października przyjść, powiedzieć co sobie wybieramy ~ na ćwierć strony opisu\n",
    "\n",
    "można: na przerwie, na konsultacjach\n",
    "\n",
    "dwa tygodnie przed końcem semestru ma być koniec projektów\n",
    "\n",
    "projekty dwuosobowe: podzielić się według woli *todo*\n",
    "\n",
    "konsultacje do ustalenia za tydzień\n",
    "\n",
    "**rzeczy podstawowe typu selekcja: niekoniecznie trzeba implementować na własną rękę**\n",
    "\n",
    "### przykłady\n",
    "* czy jutro będzie padał deszcz?\n",
    "    1. pobrać dane meteorologiczne\n",
    "        * ciśnienie\n",
    "        * temperatura\n",
    "        * wiatr\n",
    "        * zachmurzenie\n",
    "    2. można odpalić reverse in time\n",
    "    3. P(rozwiązanie)\n",
    "* opracowanie algorytmu do optymalizacji ruchu na układzie skrzyżowań (timing świateł)\n",
    "    * bez danych\n",
    "    * teoretyczna siatka skrzyżowań\n",
    "        * okresowe warunki brzegowe?\n",
    "        * modele z NumericalMooc\n",
    "\n",
    "### Literatura\n",
    "1. Polskojęzyczna:\n",
    "    * Goldberg \"Algorytmy Genetyczne i ich zastosowania\"\n",
    "    * Jarosław Arabas \"Wykłady z Algorytmów Genetycznych\"\n",
    "    * Zbigniew Michalewicz \"Algorytmy + Struktury Danych = Programy ewolucyjne\"\n",
    "2. Anglojęzyczna:\n",
    "    * J. Koza \"Genetic Programming\" 1-12 (tomy... whoa.)\n",
    "    \n",
    "### Rys historyczny\n",
    "Dwie grupy badawcze:\n",
    "1. John Holland, koło 1960, UMichigan (bardziej pod algorytmy genetyczne)\n",
    "2. Ingo Rechenberg 1963, Hans-Paul Schwebel, Politechnika Berlińska (w zachodnim) (bardziej pod strategie ewolucyjne)\n",
    "\n",
    "* **Strategie ewolucyjne**: bez krzyżowania, nacisk na mutacje\n",
    "* **Algeny**: krzyżowanie odgrywa dużą rolę\n",
    "\n",
    "### WTF is Algorytmy Genetyczne?\n",
    "\n",
    "Algeny są algorytmami procesu **optymalizacji** opartymi na zasadach doboru naturalnego i dziedziczenia. Wykorzystują mechanizmy adaptacyjne systemów biologicznych do tworzenia narzędzi hybrydowych\n",
    "\n",
    "Elementy:\n",
    "1. Maksymalizacja funkcji\n",
    "    * Mamy sobie jakąs funkcję\n",
    "    * Szukamy maksimum w $ x \\in [a, b]$ (**nie globalnie**, a w zakresie)\n",
    "2. \"Hifi bez instrukcji obsługi\"\n",
    "    * mamy blackboxa, ileś parametrów (przełączników)\n",
    "    * wychodzi jakiś output (dźwięk, \"wypłata\")\n",
    "    * **kodowanie**\n",
    "    "
   ]
  },
  {
   "cell_type": "markdown",
   "metadata": {},
   "source": [
    "### Etapy algorytmów genetycznych\n",
    "1. Kodowanie: fenotyp (człowiek widziany z zewnątrz) $\\iff$ genotyp (info ukryte w DNA).\n",
    "    * Szukamy najlepszego fenotypu, ale nie w fenotypach, tylko w genotypach - *zmieniamy genotyp i patrzymy co wyjdzie pod fenotypem*.\n",
    "    * Wybór genów - skończona liczba parametrów, symboli, które zamierzamy zmieniać (np. $[0, 1]$)\n",
    "        * przykład $[00110010]$ dla skrzynki\n",
    "        * przykład dla funkcji: $ 0 < a < b $. Dowolną liczbę można zapisać jako $a + (b-a)\\Sigma_{n=1}^{k} \\alpha_n 2^{-n} = x$. $\\alpha_n \\in {0, 1}$, cały ciąg $\\alpha$ wygląda jak wcześniej.\n",
    "2. Wybór populacji początkowej: losuję zbiór jednorodnie rozłożonych  osobników (gdzieś powyżej 50)\n",
    "3. Tworzenie następnej populacji: z bieżącej populacji wybieram osobników ze starej generacji, przepuszczamy to przez funkcję selekcji wymaga to aby $f(x) > 0$, funkcja którą maksymalizujemy musi być w całej dziedzinie większa niż zero\n",
    "    1. Funkcja selekcji: mając wylosowany $x_i$ liczę $f(x_i)$ i dzielę przez $\\Sigma_j^N f(x_j)$ (suma po wszystkich losowaniach), wychodzi załóżmy 23%... *to daje rozkład prawdopodobieństwa z którego wyciągamy kolejne elementy, N kolejnych elementów*.\n",
    "    \n",
    "        * $m(x_i) = \\frac{N f(x_i)}{\\Sigma_j^N f(x_j)} = \\frac{f(x_i)}{\\Sigma_j^N f(x_j) / N}$\n",
    "        * jeśli funkcja celu była mała to osobnik nie będzie dalej reprezentowany w kolejnej populacji\n",
    "    \n",
    "        * Ewentualnie: wchodzi tylko kilku najlepszych osobników: pierwszy 30%, drugi 20%, trzeci... itd\n",
    "    2. Crossover - kojarzenie w parach - tej populacji która wyszła przez funkcję.\n",
    "        1. Przypadkowo wybieramy dwa chromosomy z populacji\n",
    "        2. Przypadkowy punkt krzyżowania\n",
    "        3. Przecinamy, mieszamy z prawdopodobieństem $P(c) \\sim (0.7 : 0.9)$\n",
    "    3. Mutacja - losowo zmieniamy przypadkowe geny: $P(flip)\\sim10^{-3}, 10^{-4}$"
   ]
  },
  {
   "cell_type": "code",
   "execution_count": 11,
   "metadata": {
    "collapsed": false
   },
   "outputs": [
    {
     "data": {
      "text/plain": [
       "0.126953125"
      ]
     },
     "execution_count": 11,
     "metadata": {},
     "output_type": "execute_result"
    }
   ],
   "source": [
    "import numpy as np\n",
    "\n",
    "k = 10\n",
    "\n",
    "def f(x):\n",
    "    return np.exp(-(x-0.5)**2)\n",
    "\n",
    "alpha = np.random.randint(0,2, k)\n",
    "n = np.arange(1, k+1, dtype=float)\n",
    "\n",
    "def alpha_to_number(alpha, a, b):\n",
    "    return a + (b-a)*np.sum(alpha*2**(-n))\n",
    "\n",
    "alpha_to_number(alpha, 0, 1)"
   ]
  },
  {
   "cell_type": "code",
   "execution_count": 15,
   "metadata": {
    "collapsed": false
   },
   "outputs": [],
   "source": [
    "population = [alpha_to_number(np.random.randint(0,2,k), 0, 1) for j in range(50)]    "
   ]
  },
  {
   "cell_type": "code",
   "execution_count": null,
   "metadata": {
    "collapsed": true
   },
   "outputs": [],
   "source": []
  }
 ],
 "metadata": {
  "anaconda-cloud": {},
  "kernelspec": {
   "display_name": "Python [Root]",
   "language": "python",
   "name": "Python [Root]"
  },
  "language_info": {
   "codemirror_mode": {
    "name": "ipython",
    "version": 3
   },
   "file_extension": ".py",
   "mimetype": "text/x-python",
   "name": "python",
   "nbconvert_exporter": "python",
   "pygments_lexer": "ipython3",
   "version": "3.5.2"
  }
 },
 "nbformat": 4,
 "nbformat_minor": 0
}
